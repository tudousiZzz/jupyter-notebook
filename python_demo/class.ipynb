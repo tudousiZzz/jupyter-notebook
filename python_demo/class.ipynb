{
 "cells": [
  {
   "cell_type": "markdown",
   "id": "e6bd3344-f5f9-4465-aa63-853f0f9f20ff",
   "metadata": {},
   "source": [
    "类定义属性和行为\n",
    "\n",
    "类变量作用域\n",
    "global 表示变量作用在全局作用域和 nonlocal 表示作用在外层作用域也就是 global > nonlocal > local,小范围的会覆盖大范围的同名变量内容\n",
    "\n",
    "类的继承和重载\n",
    "    可以多继承\n",
    "    重载"
   ]
  },
  {
   "cell_type": "code",
   "execution_count": 1,
   "id": "4c73c732-193c-4576-8d4f-75d2671518a2",
   "metadata": {
    "tags": []
   },
   "outputs": [
    {
     "name": "stdout",
     "output_type": "stream",
     "text": [
      "After local assignment: test spam\n",
      "After nonlocal assignment: nonlocal spam\n",
      "After global assignment: nonlocal spam\n",
      "In global scope: global spam\n"
     ]
    }
   ],
   "source": [
    "def scope_test():\n",
    "    def do_local():\n",
    "        spam = \"local spam\"\n",
    "\n",
    "    def do_nonlocal():\n",
    "        nonlocal spam\n",
    "        spam = \"nonlocal spam\"\n",
    "\n",
    "    def do_global():\n",
    "        global spam\n",
    "        spam = \"global spam\"\n",
    "\n",
    "    spam = \"test spam\"\n",
    "    do_local()\n",
    "    print(\"After local assignment:\", spam)\n",
    "    do_nonlocal()\n",
    "    print(\"After nonlocal assignment:\", spam)\n",
    "    do_global()\n",
    "    print(\"After global assignment:\", spam)\n",
    "\n",
    "scope_test()\n",
    "print(\"In global scope:\", spam)"
   ]
  },
  {
   "cell_type": "code",
   "execution_count": 5,
   "id": "bb5e3656-cf05-4f8b-95f7-ffd3c3ffdacb",
   "metadata": {
    "tags": []
   },
   "outputs": [],
   "source": [
    "class Complex:\n",
    "    i, r = 0, 0\n",
    "    def __init__(self, realpart, imagpart):\n",
    "        self.r = realpart\n",
    "        self.i = imagpart"
   ]
  },
  {
   "cell_type": "code",
   "execution_count": 7,
   "id": "3f783cb8-c51c-462c-9f6b-86bf95c26bd9",
   "metadata": {
    "tags": []
   },
   "outputs": [
    {
     "data": {
      "text/plain": [
       "(1, 1)"
      ]
     },
     "execution_count": 7,
     "metadata": {},
     "output_type": "execute_result"
    }
   ],
   "source": [
    "x = Complex(1, 1)\n",
    "x.r, x.i"
   ]
  },
  {
   "cell_type": "code",
   "execution_count": 8,
   "id": "d74704e8-936e-443c-9223-363a9afce14a",
   "metadata": {
    "tags": []
   },
   "outputs": [
    {
     "data": {
      "text/plain": [
       "1"
      ]
     },
     "execution_count": 8,
     "metadata": {},
     "output_type": "execute_result"
    }
   ],
   "source": [
    "x.counter = 1\n",
    "x.counter"
   ]
  },
  {
   "cell_type": "code",
   "execution_count": 10,
   "id": "1ade6207-329e-4ee6-8944-114efc9945b4",
   "metadata": {
    "tags": []
   },
   "outputs": [
    {
     "name": "stdout",
     "output_type": "stream",
     "text": [
      "1 1 1\n"
     ]
    }
   ],
   "source": [
    "print(x.r, x.i, x.counter)"
   ]
  },
  {
   "cell_type": "code",
   "execution_count": 12,
   "id": "5796efa0-a3c0-4d8d-84f1-8511530f0a3b",
   "metadata": {
    "tags": []
   },
   "outputs": [
    {
     "ename": "NameError",
     "evalue": "name 'obj' is not defined",
     "output_type": "error",
     "traceback": [
      "\u001b[1;31m---------------------------------------------------------------------------\u001b[0m",
      "\u001b[1;31mNameError\u001b[0m                                 Traceback (most recent call last)",
      "Cell \u001b[1;32mIn[12], line 1\u001b[0m\n\u001b[1;32m----> 1\u001b[0m \u001b[38;5;28misinstance\u001b[39m(\u001b[43mobj\u001b[49m, \u001b[38;5;28mbool\u001b[39m)\n",
      "\u001b[1;31mNameError\u001b[0m: name 'obj' is not defined"
     ]
    }
   ],
   "source": [
    "isinstance(obj, bool)"
   ]
  },
  {
   "cell_type": "markdown",
   "id": "7cf3ebac-29f8-407f-adf8-045d4e59f5f8",
   "metadata": {},
   "source": [
    "迭代器和生成器\n",
    "\n",
    "生成器可以省略__iter__()和__next__()方法,生成器表达式不能像显示使用那样灵活"
   ]
  },
  {
   "cell_type": "code",
   "execution_count": 19,
   "id": "2d048a44-fca4-418f-94e4-f85405818e26",
   "metadata": {
    "tags": []
   },
   "outputs": [
    {
     "name": "stdout",
     "output_type": "stream",
     "text": [
      "f\n",
      "l\n",
      "o\n",
      "g\n"
     ]
    },
    {
     "data": {
      "text/plain": [
       "['f', 'l', 'o', 'g']"
      ]
     },
     "execution_count": 19,
     "metadata": {},
     "output_type": "execute_result"
    }
   ],
   "source": [
    "def reverse(data):\n",
    "    for index in range(len(data) - 1, -1, -1):\n",
    "        yield data[index]\n",
    "for char in reverse('golf'):\n",
    "    print(char)\n",
    "data = 'golf'\n",
    "list(data[i] for i in range(len(data) - 1, -1, -1))"
   ]
  }
 ],
 "metadata": {
  "kernelspec": {
   "display_name": "Python 3 (ipykernel)",
   "language": "python",
   "name": "python3"
  },
  "language_info": {
   "codemirror_mode": {
    "name": "ipython",
    "version": 3
   },
   "file_extension": ".py",
   "mimetype": "text/x-python",
   "name": "python",
   "nbconvert_exporter": "python",
   "pygments_lexer": "ipython3",
   "version": "3.11.3"
  }
 },
 "nbformat": 4,
 "nbformat_minor": 5
}
