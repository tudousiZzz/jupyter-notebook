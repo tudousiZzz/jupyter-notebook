{
 "cells": [
  {
   "cell_type": "markdown",
   "id": "e09f1d55-8495-40e5-b77e-78c6bec3dd95",
   "metadata": {
    "tags": []
   },
   "source": [
    "# python exercise"
   ]
  },
  {
   "cell_type": "code",
   "execution_count": 1,
   "id": "440f7666-f2d3-4f56-8387-f6c086adede1",
   "metadata": {
    "tags": []
   },
   "outputs": [
    {
     "name": "stdout",
     "output_type": "stream",
     "text": [
      "Hello python!\n"
     ]
    }
   ],
   "source": [
    "print(\"Hello python!\")"
   ]
  },
  {
   "cell_type": "code",
   "execution_count": 2,
   "id": "18f1624b-17d0-409e-9b21-a658e42081b1",
   "metadata": {
    "tags": []
   },
   "outputs": [
    {
     "name": "stdout",
     "output_type": "stream",
     "text": [
      "1.5\n"
     ]
    }
   ],
   "source": [
    "print(abs(-1.5))"
   ]
  },
  {
   "cell_type": "code",
   "execution_count": 3,
   "id": "0e777723-5c74-4327-8270-cc06c5d83d7d",
   "metadata": {},
   "outputs": [
    {
     "data": {
      "text/plain": [
       "3.4"
      ]
     },
     "execution_count": 3,
     "metadata": {},
     "output_type": "execute_result"
    }
   ],
   "source": [
    "17 / 5"
   ]
  },
  {
   "cell_type": "code",
   "execution_count": 4,
   "id": "b9f507a7-fcd2-4789-88f3-f1896e8298b5",
   "metadata": {
    "tags": []
   },
   "outputs": [
    {
     "data": {
      "text/plain": [
       "5.666666666666667"
      ]
     },
     "execution_count": 4,
     "metadata": {},
     "output_type": "execute_result"
    }
   ],
   "source": [
    "17 / 3"
   ]
  },
  {
   "cell_type": "code",
   "execution_count": 5,
   "id": "cdd15c4f-2026-49a1-bd47-8787bd8a4505",
   "metadata": {
    "tags": []
   },
   "outputs": [
    {
     "data": {
      "text/plain": [
       "5"
      ]
     },
     "execution_count": 5,
     "metadata": {},
     "output_type": "execute_result"
    }
   ],
   "source": [
    "17 // 3"
   ]
  },
  {
   "cell_type": "code",
   "execution_count": 6,
   "id": "14c6113c-48f4-4d4b-9360-d001161de912",
   "metadata": {
    "tags": []
   },
   "outputs": [
    {
     "data": {
      "text/plain": [
       "25"
      ]
     },
     "execution_count": 6,
     "metadata": {},
     "output_type": "execute_result"
    }
   ],
   "source": [
    "5 ** 2"
   ]
  },
  {
   "cell_type": "code",
   "execution_count": 7,
   "id": "b293dd8f-162e-4451-bffc-466f040dc198",
   "metadata": {
    "tags": []
   },
   "outputs": [
    {
     "data": {
      "text/plain": [
       "25"
      ]
     },
     "execution_count": 7,
     "metadata": {},
     "output_type": "execute_result"
    }
   ],
   "source": [
    "_"
   ]
  },
  {
   "cell_type": "code",
   "execution_count": 8,
   "id": "b9dd12ed-9e9f-4724-bca8-bce1a5016e03",
   "metadata": {
    "tags": []
   },
   "outputs": [
    {
     "data": {
      "text/plain": [
       "'hello'"
      ]
     },
     "execution_count": 8,
     "metadata": {},
     "output_type": "execute_result"
    }
   ],
   "source": [
    "\"hello\""
   ]
  },
  {
   "cell_type": "code",
   "execution_count": 9,
   "id": "117afed7-4267-4950-920c-b9554250c5e8",
   "metadata": {
    "tags": []
   },
   "outputs": [
    {
     "name": "stdout",
     "output_type": "stream",
     "text": [
      "\"hello\"\n"
     ]
    }
   ],
   "source": [
    "print('\"hello\"')"
   ]
  },
  {
   "cell_type": "code",
   "execution_count": 10,
   "id": "646296d3-efab-4754-83c6-39636e5f0483",
   "metadata": {
    "tags": []
   },
   "outputs": [
    {
     "name": "stdout",
     "output_type": "stream",
     "text": [
      "C:\\some\n",
      "ame\n"
     ]
    }
   ],
   "source": [
    "print('C:\\some\\name')"
   ]
  },
  {
   "cell_type": "code",
   "execution_count": 11,
   "id": "5dd36bb5-2567-4db8-aa8f-1866bf6380bb",
   "metadata": {
    "tags": []
   },
   "outputs": [
    {
     "name": "stdout",
     "output_type": "stream",
     "text": [
      "C:\\some\\name\n"
     ]
    }
   ],
   "source": [
    "print('C:\\some\\\\name')"
   ]
  },
  {
   "cell_type": "code",
   "execution_count": 12,
   "id": "44f5fdfc-46ff-46b5-b0a5-7e592830729a",
   "metadata": {
    "tags": []
   },
   "outputs": [
    {
     "name": "stdout",
     "output_type": "stream",
     "text": [
      "C:\\some\\name\n"
     ]
    }
   ],
   "source": [
    "print(r'C:\\some\\name')"
   ]
  },
  {
   "cell_type": "code",
   "execution_count": 13,
   "id": "52613ee7-9262-47f1-a0a9-69ae3294bf26",
   "metadata": {
    "tags": []
   },
   "outputs": [
    {
     "name": "stdout",
     "output_type": "stream",
     "text": [
      "hello\n",
      "python!\n",
      "i am tangnanxing\n"
     ]
    }
   ],
   "source": [
    "print(\"\"\"hello\n",
    "python!\n",
    "i am tangnanxing\"\"\")"
   ]
  },
  {
   "cell_type": "code",
   "execution_count": 14,
   "id": "b61bdf78-3d37-415e-b0aa-fab157eafab1",
   "metadata": {
    "tags": []
   },
   "outputs": [
    {
     "data": {
      "text/plain": [
       "'ununun'"
      ]
     },
     "execution_count": 14,
     "metadata": {},
     "output_type": "execute_result"
    }
   ],
   "source": [
    "3 * 'un'"
   ]
  },
  {
   "cell_type": "code",
   "execution_count": 15,
   "id": "55afa9a7-a8c8-4a00-9a56-f22390ca3cab",
   "metadata": {
    "tags": []
   },
   "outputs": [
    {
     "data": {
      "text/plain": [
       "'python'"
      ]
     },
     "execution_count": 15,
     "metadata": {},
     "output_type": "execute_result"
    }
   ],
   "source": [
    "'py' 'thon'"
   ]
  },
  {
   "cell_type": "code",
   "execution_count": 16,
   "id": "fbe230b2-a802-4282-a72e-97c757ab5556",
   "metadata": {
    "tags": []
   },
   "outputs": [],
   "source": [
    "word = 'python'"
   ]
  },
  {
   "cell_type": "code",
   "execution_count": 17,
   "id": "945b4b66-431e-44c0-9977-7e4358efe1f6",
   "metadata": {
    "tags": []
   },
   "outputs": [
    {
     "data": {
      "text/plain": [
       "'p'"
      ]
     },
     "execution_count": 17,
     "metadata": {},
     "output_type": "execute_result"
    }
   ],
   "source": [
    "word[0]"
   ]
  },
  {
   "cell_type": "code",
   "execution_count": 18,
   "id": "20acc2b8-2e02-4efc-b193-ed0baeb1e01c",
   "metadata": {
    "tags": []
   },
   "outputs": [
    {
     "data": {
      "text/plain": [
       "'n'"
      ]
     },
     "execution_count": 18,
     "metadata": {},
     "output_type": "execute_result"
    }
   ],
   "source": [
    "word[-1]"
   ]
  },
  {
   "cell_type": "code",
   "execution_count": 19,
   "id": "2be88b29-19e7-452f-91cd-427b0ab8150c",
   "metadata": {
    "tags": []
   },
   "outputs": [
    {
     "data": {
      "text/plain": [
       "'pytho'"
      ]
     },
     "execution_count": 19,
     "metadata": {},
     "output_type": "execute_result"
    }
   ],
   "source": [
    "word[0:-1]"
   ]
  },
  {
   "cell_type": "code",
   "execution_count": 20,
   "id": "df2b2e85-f94f-4f91-8484-9d491e24b331",
   "metadata": {
    "tags": []
   },
   "outputs": [
    {
     "data": {
      "text/plain": [
       "'python'"
      ]
     },
     "execution_count": 20,
     "metadata": {},
     "output_type": "execute_result"
    }
   ],
   "source": [
    "word[0:]"
   ]
  },
  {
   "cell_type": "code",
   "execution_count": 21,
   "id": "a0328989-74f6-4677-90c4-d08868a83f18",
   "metadata": {
    "tags": []
   },
   "outputs": [
    {
     "data": {
      "text/plain": [
       "'pytho'"
      ]
     },
     "execution_count": 21,
     "metadata": {},
     "output_type": "execute_result"
    }
   ],
   "source": [
    "word[:-1]"
   ]
  },
  {
   "cell_type": "code",
   "execution_count": 22,
   "id": "2363f5bd-fc2a-40b5-952e-4c8481380a9a",
   "metadata": {
    "tags": []
   },
   "outputs": [
    {
     "data": {
      "text/plain": [
       "'python'"
      ]
     },
     "execution_count": 22,
     "metadata": {},
     "output_type": "execute_result"
    }
   ],
   "source": [
    "str.format(word)"
   ]
  },
  {
   "cell_type": "code",
   "execution_count": 23,
   "id": "2eb00a01-7c07-4010-bb3e-721d6140e81b",
   "metadata": {
    "tags": []
   },
   "outputs": [
    {
     "data": {
      "text/plain": [
       "6"
      ]
     },
     "execution_count": 23,
     "metadata": {},
     "output_type": "execute_result"
    }
   ],
   "source": [
    "len(word)"
   ]
  },
  {
   "cell_type": "code",
   "execution_count": 24,
   "id": "5364f219-9694-426c-9687-bdbdf6e8545c",
   "metadata": {
    "tags": []
   },
   "outputs": [],
   "source": [
    "squares = [1, 4, 9, 16, 25]"
   ]
  },
  {
   "cell_type": "code",
   "execution_count": 25,
   "id": "f93ed137-760f-4bc6-9773-fbe7f76d0827",
   "metadata": {
    "tags": []
   },
   "outputs": [
    {
     "data": {
      "text/plain": [
       "[1, 4, 9, 16, 25]"
      ]
     },
     "execution_count": 25,
     "metadata": {},
     "output_type": "execute_result"
    }
   ],
   "source": [
    "squares"
   ]
  },
  {
   "cell_type": "code",
   "execution_count": 26,
   "id": "ceb8d1db-95b4-4d86-96c9-4d0d80992685",
   "metadata": {
    "tags": []
   },
   "outputs": [
    {
     "data": {
      "text/plain": [
       "[1, 4, 9, 16, 25, 36]"
      ]
     },
     "execution_count": 26,
     "metadata": {},
     "output_type": "execute_result"
    }
   ],
   "source": [
    "squares + [36]"
   ]
  },
  {
   "cell_type": "code",
   "execution_count": 27,
   "id": "b90cf6d2-ca4f-4e9e-9394-4a3c92f1afaf",
   "metadata": {
    "tags": []
   },
   "outputs": [],
   "source": [
    "squares.append(49)"
   ]
  },
  {
   "cell_type": "code",
   "execution_count": 28,
   "id": "168ce674-3b2a-4e99-ad14-f080a093c7f1",
   "metadata": {
    "tags": []
   },
   "outputs": [
    {
     "data": {
      "text/plain": [
       "[1, 4, 9, 16, 25, 49]"
      ]
     },
     "execution_count": 28,
     "metadata": {},
     "output_type": "execute_result"
    }
   ],
   "source": [
    "squares"
   ]
  },
  {
   "cell_type": "markdown",
   "id": "ca787307-a38e-4cd1-ba7e-4403c774ea22",
   "metadata": {},
   "source": [
    "切片可以替换mutable类型的内容，可以用来置空更新等操作  \n"
   ]
  },
  {
   "cell_type": "code",
   "execution_count": 32,
   "id": "afae57a6-9311-4515-928c-aec727a9c92c",
   "metadata": {
    "tags": []
   },
   "outputs": [
    {
     "name": "stdout",
     "output_type": "stream",
     "text": [
      "0\n",
      "1\n",
      "1\n",
      "2\n",
      "3\n",
      "5\n",
      "8\n"
     ]
    }
   ],
   "source": [
    "a, b = 0, 1\n",
    "while a < 10:\n",
    "    print(a)\n",
    "    a, b = b, a + b"
   ]
  },
  {
   "cell_type": "code",
   "execution_count": 33,
   "id": "2984d0c6-5f43-4cd7-bb30-7def45f3d53a",
   "metadata": {
    "tags": []
   },
   "outputs": [
    {
     "name": "stdout",
     "output_type": "stream",
     "text": [
      "0,1,1,2,3,5,8,"
     ]
    }
   ],
   "source": [
    "a, b = 0, 1\n",
    "while a < 10:\n",
    "    print(a, end = ',')\n",
    "    a, b = b, a + b"
   ]
  },
  {
   "cell_type": "code",
   "execution_count": 34,
   "id": "df85f2d2-cca3-4633-b716-65cf0b14523c",
   "metadata": {
    "tags": []
   },
   "outputs": [
    {
     "name": "stdout",
     "output_type": "stream",
     "text": [
      "0 1 1 2 3 5 8 "
     ]
    }
   ],
   "source": [
    "a, b = 0, 1\n",
    "while a < 10:\n",
    "    print(a, end = ' ')\n",
    "    a, b = b, a + b"
   ]
  },
  {
   "cell_type": "code",
   "execution_count": 35,
   "id": "0a64f123-5868-4cef-a27c-cd0fdb9e88a4",
   "metadata": {
    "tags": []
   },
   "outputs": [
    {
     "name": "stdin",
     "output_type": "stream",
     "text": [
      "Please input an integer: 25\n"
     ]
    }
   ],
   "source": [
    "x = int(input(\"Please input an integer:\"))"
   ]
  },
  {
   "cell_type": "code",
   "execution_count": 36,
   "id": "bdbbee1a-6a4d-4e03-b4d9-47f72d6f33c0",
   "metadata": {
    "tags": []
   },
   "outputs": [
    {
     "data": {
      "text/plain": [
       "25"
      ]
     },
     "execution_count": 36,
     "metadata": {},
     "output_type": "execute_result"
    }
   ],
   "source": [
    "x"
   ]
  },
  {
   "cell_type": "code",
   "execution_count": 37,
   "id": "f286b2c8-fe6e-4092-9b7f-4d24c16c74f1",
   "metadata": {
    "tags": []
   },
   "outputs": [],
   "source": [
    "users = {'Hans': 'active', 'Éléonore': 'inactive', '景太郎': 'active'}"
   ]
  },
  {
   "cell_type": "code",
   "execution_count": 38,
   "id": "624c219e-9e30-467e-aacd-0708a40250c4",
   "metadata": {
    "tags": []
   },
   "outputs": [
    {
     "name": "stdout",
     "output_type": "stream",
     "text": [
      "Hans active\n",
      "Éléonore inactive\n",
      "景太郎 active\n"
     ]
    }
   ],
   "source": [
    "for user, status in users.copy().items():\n",
    "        print(user + ' ' + status)"
   ]
  },
  {
   "cell_type": "code",
   "execution_count": 39,
   "id": "3e119b1a-bdae-4d9d-96f4-eb0b35b95354",
   "metadata": {
    "tags": []
   },
   "outputs": [],
   "source": [
    "for user, status in users.copy().items():\n",
    "        if status == 'active':\n",
    "            del users[user]"
   ]
  },
  {
   "cell_type": "code",
   "execution_count": 40,
   "id": "53537ea8-60f3-46b3-bb2c-7a9676604a95",
   "metadata": {
    "tags": []
   },
   "outputs": [
    {
     "data": {
      "text/plain": [
       "{'Éléonore': 'inactive'}"
      ]
     },
     "execution_count": 40,
     "metadata": {},
     "output_type": "execute_result"
    }
   ],
   "source": [
    "users"
   ]
  },
  {
   "cell_type": "code",
   "execution_count": 41,
   "id": "d4b353b8-067c-46b4-a959-055c5182a91b",
   "metadata": {
    "tags": []
   },
   "outputs": [
    {
     "name": "stdout",
     "output_type": "stream",
     "text": [
      "0 1 2 3 4 "
     ]
    }
   ],
   "source": [
    "for i in range(5):\n",
    "    print(i, end =  ' ')"
   ]
  },
  {
   "cell_type": "code",
   "execution_count": 42,
   "id": "495d7f8e-d813-4c74-a584-d63f1b86aedd",
   "metadata": {
    "tags": []
   },
   "outputs": [
    {
     "data": {
      "text/plain": [
       "[5, 6, 7, 8, 9]"
      ]
     },
     "execution_count": 42,
     "metadata": {},
     "output_type": "execute_result"
    }
   ],
   "source": [
    "list(range(5, 10))"
   ]
  },
  {
   "cell_type": "code",
   "execution_count": 43,
   "id": "1b21cf8c-feac-4c92-aae2-171c14cb29f2",
   "metadata": {
    "tags": []
   },
   "outputs": [
    {
     "data": {
      "text/plain": [
       "[5, 8]"
      ]
     },
     "execution_count": 43,
     "metadata": {},
     "output_type": "execute_result"
    }
   ],
   "source": [
    "list(range(5, 10, 3))"
   ]
  },
  {
   "cell_type": "markdown",
   "id": "4ec4eeea-aff0-4c16-b776-d11bb4acfbe6",
   "metadata": {},
   "source": [
    "使用enumerate可以不用遍历，range返回的是迭代器因此所有可以接受迭代器作为输入的都可以使用range  \n"
   ]
  },
  {
   "cell_type": "code",
   "execution_count": 44,
   "id": "ba7dc510-7025-4fd9-8f3b-7a5b0431b123",
   "metadata": {
    "tags": []
   },
   "outputs": [
    {
     "data": {
      "text/plain": [
       "[(0, 'Éléonore')]"
      ]
     },
     "execution_count": 44,
     "metadata": {},
     "output_type": "execute_result"
    }
   ],
   "source": [
    "list(enumerate(users))"
   ]
  },
  {
   "cell_type": "code",
   "execution_count": 45,
   "id": "e23cc3db-1fef-432e-93d8-7fd3a40d7870",
   "metadata": {
    "tags": []
   },
   "outputs": [
    {
     "data": {
      "text/plain": [
       "range(0, 10)"
      ]
     },
     "execution_count": 45,
     "metadata": {},
     "output_type": "execute_result"
    }
   ],
   "source": [
    "range(10)"
   ]
  },
  {
   "cell_type": "code",
   "execution_count": 46,
   "id": "b0474307-096c-4284-b3dc-bff3ceb3a67d",
   "metadata": {
    "tags": []
   },
   "outputs": [
    {
     "data": {
      "text/plain": [
       "45"
      ]
     },
     "execution_count": 46,
     "metadata": {},
     "output_type": "execute_result"
    }
   ],
   "source": [
    "sum(range(10))"
   ]
  },
  {
   "cell_type": "markdown",
   "id": "63022a3d-ef99-4ad9-9733-63b2c970375a",
   "metadata": {},
   "source": [
    "match 需要查看 [pep-0636](https://peps.python.org/pep-0636/)"
   ]
  },
  {
   "cell_type": "code",
   "execution_count": 61,
   "id": "b21e2951-de8a-45c9-b008-273dfd360899",
   "metadata": {
    "tags": []
   },
   "outputs": [
    {
     "name": "stdout",
     "output_type": "stream",
     "text": [
      "inactive\n"
     ]
    }
   ],
   "source": [
    "match users:\n",
    "    case {'1': value}:\n",
    "        print(value)\n",
    "    case {'Éléonore': value}:\n",
    "        print(value)\n",
    "    case _:\n",
    "        print(\"false\")"
   ]
  },
  {
   "cell_type": "markdown",
   "id": "d2b4dc51-2d15-4854-af99-1657021b53d4",
   "metadata": {},
   "source": [
    "函数  \n"
   ]
  },
  {
   "cell_type": "code",
   "execution_count": 64,
   "id": "000daf91-5d7d-44b8-bd0d-a900822ee02f",
   "metadata": {},
   "outputs": [],
   "source": [
    "def fibo(n):\n",
    "    a, b = 0, 1\n",
    "    while b < n:\n",
    "        a, b = b, a + b\n",
    "    print(a)"
   ]
  },
  {
   "cell_type": "code",
   "execution_count": 65,
   "id": "d952b52f-96a1-4a0a-8e65-c8c6fbb453fc",
   "metadata": {
    "tags": []
   },
   "outputs": [
    {
     "name": "stdout",
     "output_type": "stream",
     "text": [
      "89\n"
     ]
    }
   ],
   "source": [
    "fibo(100)"
   ]
  },
  {
   "cell_type": "code",
   "execution_count": null,
   "id": "e8332c8f-408e-48da-baaf-c07ed41b5638",
   "metadata": {},
   "outputs": [],
   "source": []
  }
 ],
 "metadata": {
  "kernelspec": {
   "display_name": "Python 3 (ipykernel)",
   "language": "python",
   "name": "python3"
  },
  "language_info": {
   "codemirror_mode": {
    "name": "ipython",
    "version": 3
   },
   "file_extension": ".py",
   "mimetype": "text/x-python",
   "name": "python",
   "nbconvert_exporter": "python",
   "pygments_lexer": "ipython3",
   "version": "3.11.3"
  }
 },
 "nbformat": 4,
 "nbformat_minor": 5
}
