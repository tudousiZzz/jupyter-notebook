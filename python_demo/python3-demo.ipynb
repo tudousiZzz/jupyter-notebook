{
 "cells": [
  {
   "cell_type": "markdown",
   "id": "e09f1d55-8495-40e5-b77e-78c6bec3dd95",
   "metadata": {},
   "source": [
    "# python exercise"
   ]
  },
  {
   "cell_type": "code",
   "execution_count": 1,
   "id": "440f7666-f2d3-4f56-8387-f6c086adede1",
   "metadata": {
    "tags": []
   },
   "outputs": [
    {
     "name": "stdout",
     "output_type": "stream",
     "text": [
      "Hello python!\n"
     ]
    }
   ],
   "source": [
    "print(\"Hello python!\")"
   ]
  },
  {
   "cell_type": "code",
   "execution_count": 2,
   "id": "18f1624b-17d0-409e-9b21-a658e42081b1",
   "metadata": {
    "tags": []
   },
   "outputs": [
    {
     "name": "stdout",
     "output_type": "stream",
     "text": [
      "1.5\n"
     ]
    }
   ],
   "source": [
    "print(abs(-1.5))"
   ]
  },
  {
   "cell_type": "code",
   "execution_count": null,
   "id": "0e777723-5c74-4327-8270-cc06c5d83d7d",
   "metadata": {},
   "outputs": [],
   "source": []
  }
 ],
 "metadata": {
  "kernelspec": {
   "display_name": "Python 3 (ipykernel)",
   "language": "python",
   "name": "python3"
  },
  "language_info": {
   "codemirror_mode": {
    "name": "ipython",
    "version": 3
   },
   "file_extension": ".py",
   "mimetype": "text/x-python",
   "name": "python",
   "nbconvert_exporter": "python",
   "pygments_lexer": "ipython3",
   "version": "3.11.3"
  }
 },
 "nbformat": 4,
 "nbformat_minor": 5
}
