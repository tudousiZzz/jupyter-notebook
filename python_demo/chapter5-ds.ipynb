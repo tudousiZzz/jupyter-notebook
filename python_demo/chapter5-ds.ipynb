{
 "cells": [
  {
   "cell_type": "markdown",
   "id": "f79a15cc-eecf-4327-9d0e-0e45c78f8c17",
   "metadata": {},
   "source": [
    "# chapter5 python 当中的数据结构"
   ]
  },
  {
   "cell_type": "markdown",
   "id": "88601b8f-1200-43c4-8b5b-c352daaeee84",
   "metadata": {},
   "source": [
    "## 列表\n",
    "和其他语言不同的地方在于列表推导式的使用可以简化列表的遍历过程又不至于像lambda那样难以理解"
   ]
  },
  {
   "cell_type": "code",
   "execution_count": 1,
   "id": "0339ce0e-3aad-4a6c-9045-8d603ae94ffe",
   "metadata": {
    "tags": []
   },
   "outputs": [],
   "source": [
    "fruits = ['orange', 'apple', 'pear', 'banana', 'kiwi', 'apple', 'banana']"
   ]
  },
  {
   "cell_type": "code",
   "execution_count": 2,
   "id": "56390a61-1942-4d19-a1bc-d28738abc491",
   "metadata": {
    "tags": []
   },
   "outputs": [
    {
     "data": {
      "text/plain": [
       "2"
      ]
     },
     "execution_count": 2,
     "metadata": {},
     "output_type": "execute_result"
    }
   ],
   "source": [
    "fruits.count('apple')"
   ]
  },
  {
   "cell_type": "code",
   "execution_count": 5,
   "id": "7d0cded1-f38b-4165-b3f3-c32edb989d2b",
   "metadata": {
    "tags": []
   },
   "outputs": [
    {
     "data": {
      "text/plain": [
       "5"
      ]
     },
     "execution_count": 5,
     "metadata": {},
     "output_type": "execute_result"
    }
   ],
   "source": [
    "fruits.index('apple', 2)"
   ]
  },
  {
   "cell_type": "code",
   "execution_count": 6,
   "id": "7150df01-f6fd-4c06-9263-739ed49f6dd7",
   "metadata": {
    "tags": []
   },
   "outputs": [],
   "source": [
    "fruits.sort(key = lambda f : fruits)"
   ]
  },
  {
   "cell_type": "code",
   "execution_count": 7,
   "id": "ed31d704-8086-48d7-8592-03b120aba820",
   "metadata": {
    "tags": []
   },
   "outputs": [
    {
     "data": {
      "text/plain": [
       "['orange', 'apple', 'pear', 'banana', 'kiwi', 'apple', 'banana']"
      ]
     },
     "execution_count": 7,
     "metadata": {},
     "output_type": "execute_result"
    }
   ],
   "source": [
    "fruits"
   ]
  },
  {
   "cell_type": "code",
   "execution_count": 8,
   "id": "6d366d7c-115a-419b-af6a-ba22e033a3ff",
   "metadata": {
    "tags": []
   },
   "outputs": [
    {
     "ename": "AttributeError",
     "evalue": "'collections.deque' object has no attribute 'popright'",
     "output_type": "error",
     "traceback": [
      "\u001b[1;31m---------------------------------------------------------------------------\u001b[0m",
      "\u001b[1;31mAttributeError\u001b[0m                            Traceback (most recent call last)",
      "Cell \u001b[1;32mIn[8], line 5\u001b[0m\n\u001b[0;32m      3\u001b[0m queue\u001b[38;5;241m.\u001b[39mappend(\u001b[38;5;124m'\u001b[39m\u001b[38;5;124mpear\u001b[39m\u001b[38;5;124m'\u001b[39m)\n\u001b[0;32m      4\u001b[0m queue\u001b[38;5;241m.\u001b[39mpopleft()\n\u001b[1;32m----> 5\u001b[0m \u001b[43mqueue\u001b[49m\u001b[38;5;241;43m.\u001b[39;49m\u001b[43mpopright\u001b[49m()\n",
      "\u001b[1;31mAttributeError\u001b[0m: 'collections.deque' object has no attribute 'popright'"
     ]
    }
   ],
   "source": [
    "from collections import deque\n",
    "queue = deque(['orange', 'apple', 'pear', 'banana', 'kiwi', 'apple', 'banana'])\n",
    "queue.append('pear')\n",
    "queue.popleft()\n",
    "queue.popright()"
   ]
  },
  {
   "cell_type": "code",
   "execution_count": 9,
   "id": "3082a708-ea5a-421e-8277-f8e63e879752",
   "metadata": {
    "tags": []
   },
   "outputs": [
    {
     "data": {
      "text/plain": [
       "deque(['apple', 'pear', 'banana', 'kiwi', 'apple', 'banana', 'pear'])"
      ]
     },
     "execution_count": 9,
     "metadata": {},
     "output_type": "execute_result"
    }
   ],
   "source": [
    "queue"
   ]
  },
  {
   "cell_type": "code",
   "execution_count": 10,
   "id": "73dbf395-bae2-435b-b7af-2156f02dfe80",
   "metadata": {
    "tags": []
   },
   "outputs": [
    {
     "data": {
      "text/plain": [
       "'pear'"
      ]
     },
     "execution_count": 10,
     "metadata": {},
     "output_type": "execute_result"
    }
   ],
   "source": [
    "queue.pop()"
   ]
  },
  {
   "cell_type": "code",
   "execution_count": 11,
   "id": "4c02b1ea-319d-404d-a7fe-875f669779bf",
   "metadata": {
    "tags": []
   },
   "outputs": [
    {
     "data": {
      "text/plain": [
       "deque(['apple', 'pear', 'banana', 'kiwi', 'apple', 'banana'])"
      ]
     },
     "execution_count": 11,
     "metadata": {},
     "output_type": "execute_result"
    }
   ],
   "source": [
    "queue"
   ]
  },
  {
   "cell_type": "code",
   "execution_count": 12,
   "id": "bbbf08d3-95be-4972-81d7-3bedc91c965c",
   "metadata": {
    "tags": []
   },
   "outputs": [],
   "source": [
    "queue.insert(0, 'orange')"
   ]
  },
  {
   "cell_type": "code",
   "execution_count": 13,
   "id": "68e2fcc9-3bd4-4b9d-8190-dd8e7d8839ea",
   "metadata": {
    "tags": []
   },
   "outputs": [
    {
     "data": {
      "text/plain": [
       "deque(['orange', 'apple', 'pear', 'banana', 'kiwi', 'apple', 'banana'])"
      ]
     },
     "execution_count": 13,
     "metadata": {},
     "output_type": "execute_result"
    }
   ],
   "source": [
    "queue"
   ]
  },
  {
   "cell_type": "code",
   "execution_count": 16,
   "id": "c963b23c-826e-46a6-a5ed-206728dd6b63",
   "metadata": {
    "tags": []
   },
   "outputs": [
    {
     "data": {
      "text/plain": [
       "[2, 4, 6, 8, 10, 12, 14, 16, 18, 20, 22, 24]"
      ]
     },
     "execution_count": 16,
     "metadata": {},
     "output_type": "execute_result"
    }
   ],
   "source": [
    "matrix = [\n",
    "    [1, 2, 3, 4],\n",
    "    [5, 6, 7, 8],\n",
    "    [9, 10, 11, 12],\n",
    "]\n",
    "[x * 2 for row in matrix for x in row]"
   ]
  },
  {
   "cell_type": "code",
   "execution_count": 17,
   "id": "dc843aa9-2718-4513-b72e-e3d5e7fdeabd",
   "metadata": {
    "tags": []
   },
   "outputs": [
    {
     "name": "stdout",
     "output_type": "stream",
     "text": [
      "[[1, 2, 3, 4], [5, 6, 7, 8], [9, 10, 11, 12]]\n"
     ]
    }
   ],
   "source": [
    "print(matrix)"
   ]
  },
  {
   "cell_type": "code",
   "execution_count": 18,
   "id": "9c3156e3-c0a0-4316-833f-37707c2217ac",
   "metadata": {
    "tags": []
   },
   "outputs": [
    {
     "name": "stdout",
     "output_type": "stream",
     "text": [
      "<zip object at 0x0000026CA00CC3C0>\n"
     ]
    }
   ],
   "source": [
    "print(zip(*matrix))"
   ]
  },
  {
   "cell_type": "code",
   "execution_count": 19,
   "id": "d197d534-639e-4cbc-8c95-47fd602ea9f9",
   "metadata": {
    "tags": []
   },
   "outputs": [
    {
     "data": {
      "text/plain": [
       "[(1, 5, 9), (2, 6, 10), (3, 7, 11), (4, 8, 12)]"
      ]
     },
     "execution_count": 19,
     "metadata": {},
     "output_type": "execute_result"
    }
   ],
   "source": [
    "list(zip(*matrix))"
   ]
  },
  {
   "cell_type": "code",
   "execution_count": 22,
   "id": "6c613159-0bd5-4a73-b682-f0b2261b4d0e",
   "metadata": {
    "tags": []
   },
   "outputs": [
    {
     "data": {
      "text/plain": [
       "[[1, 5, 9], [2, 6, 10], [3, 7, 11], [4, 8, 12]]"
      ]
     },
     "execution_count": 22,
     "metadata": {},
     "output_type": "execute_result"
    }
   ],
   "source": [
    "[[row[i] for row in matrix] for i in range(len(matrix[0]))]"
   ]
  },
  {
   "cell_type": "markdown",
   "id": "55ea753d-f85c-40a7-b07b-596c2a5cc648",
   "metadata": {},
   "source": [
    "## 元组与解包\n",
    "元组可以包含不同类型的数据，同时可以解包给多个变量称之为序列解包"
   ]
  },
  {
   "cell_type": "code",
   "execution_count": 23,
   "id": "a1d9158d-ad5d-46ef-957a-a0c46fa2ad75",
   "metadata": {
    "tags": []
   },
   "outputs": [
    {
     "data": {
      "text/plain": [
       "0"
      ]
     },
     "execution_count": 23,
     "metadata": {},
     "output_type": "execute_result"
    }
   ],
   "source": [
    "empty = ()\n",
    "len(empty)"
   ]
  },
  {
   "cell_type": "code",
   "execution_count": 24,
   "id": "32cab7bb-312b-42ad-a339-a0e605c63258",
   "metadata": {
    "tags": []
   },
   "outputs": [
    {
     "data": {
      "text/plain": [
       "'hello'"
      ]
     },
     "execution_count": 24,
     "metadata": {},
     "output_type": "execute_result"
    }
   ],
   "source": [
    "empty = ('hello')\n",
    "empty"
   ]
  },
  {
   "cell_type": "code",
   "execution_count": 27,
   "id": "c1f042ef-d0eb-47bb-a436-15e06d1f2a0f",
   "metadata": {
    "tags": []
   },
   "outputs": [
    {
     "name": "stdout",
     "output_type": "stream",
     "text": [
      "hello python\n"
     ]
    }
   ],
   "source": [
    "empty = 'hello', 'python'\n",
    "h, p = empty\n",
    "print(h, p)"
   ]
  },
  {
   "cell_type": "markdown",
   "id": "11896953-0d4d-40a1-b16e-7dccf4d0a922",
   "metadata": {},
   "source": [
    "## 集合\n",
    "集合初始化用set()，不能用{} 因为后者用来初始化为字典，集合也可以用集合推导式, 注意set初始化和{}有数据的时候是不同的。"
   ]
  },
  {
   "cell_type": "code",
   "execution_count": 29,
   "id": "cc9973c7-79fc-418d-bdfe-543d7a5d04c6",
   "metadata": {
    "tags": []
   },
   "outputs": [
    {
     "data": {
      "text/plain": [
       "0"
      ]
     },
     "execution_count": 29,
     "metadata": {},
     "output_type": "execute_result"
    }
   ],
   "source": [
    "a = set()\n",
    "len(a)"
   ]
  },
  {
   "cell_type": "code",
   "execution_count": 30,
   "id": "008f397b-060b-4d86-82d2-c2f61811f477",
   "metadata": {
    "tags": []
   },
   "outputs": [
    {
     "data": {
      "text/plain": [
       "{'absdfsefef'}"
      ]
     },
     "execution_count": 30,
     "metadata": {},
     "output_type": "execute_result"
    }
   ],
   "source": [
    "a = {'absdfsefef'}\n",
    "a"
   ]
  },
  {
   "cell_type": "code",
   "execution_count": 32,
   "id": "1366140b-5052-4950-b005-14214fe5b284",
   "metadata": {
    "tags": []
   },
   "outputs": [
    {
     "data": {
      "text/plain": [
       "{'a', 'e', 'f', 'g'}"
      ]
     },
     "execution_count": 32,
     "metadata": {},
     "output_type": "execute_result"
    }
   ],
   "source": [
    "a = set('agaefef')\n",
    "a"
   ]
  },
  {
   "cell_type": "code",
   "execution_count": 34,
   "id": "572208ed-8371-46db-8d98-ee2372f8be0e",
   "metadata": {
    "tags": []
   },
   "outputs": [
    {
     "data": {
      "text/plain": [
       "{'e', 'f', 'g'}"
      ]
     },
     "execution_count": 34,
     "metadata": {},
     "output_type": "execute_result"
    }
   ],
   "source": [
    "{x for x in a if x != 'a'}"
   ]
  },
  {
   "cell_type": "markdown",
   "id": "35ed520d-4d7d-4d8e-bed0-8162a412ac8e",
   "metadata": {},
   "source": [
    "## 字典\n",
    "字典初始化：\n",
    "    1. 使用{}\n",
    "    2. 使用dict()直接用键值对序列来创建字典\n",
    "    3. 使用字典推导式\n",
    "    4. 使用关键字参数"
   ]
  },
  {
   "cell_type": "code",
   "execution_count": 37,
   "id": "c2e53a3c-e3a1-4a4c-8c38-7f0df9fd2c73",
   "metadata": {
    "tags": []
   },
   "outputs": [
    {
     "name": "stdout",
     "output_type": "stream",
     "text": [
      "sape 4139\n",
      "guido 4127\n",
      "jack 4098\n"
     ]
    }
   ],
   "source": [
    "names = dict([('sape', 4139), ('guido', 4127), ('jack', 4098)])\n",
    "for k, v in names.items():\n",
    "    print(k, v)"
   ]
  },
  {
   "cell_type": "code",
   "execution_count": 38,
   "id": "990157b0-9270-4ca2-9a90-7a44908262a5",
   "metadata": {
    "tags": []
   },
   "outputs": [
    {
     "ename": "NameError",
     "evalue": "name 'python' is not defined",
     "output_type": "error",
     "traceback": [
      "\u001b[1;31m---------------------------------------------------------------------------\u001b[0m",
      "\u001b[1;31mNameError\u001b[0m                                 Traceback (most recent call last)",
      "Cell \u001b[1;32mIn[38], line 1\u001b[0m\n\u001b[1;32m----> 1\u001b[0m \u001b[43mpython\u001b[49m \u001b[38;5;241m/\u001b[39mpysource\u001b[38;5;241m/\u001b[39mfibo\u001b[38;5;241m.\u001b[39mpy\n",
      "\u001b[1;31mNameError\u001b[0m: name 'python' is not defined"
     ]
    }
   ],
   "source": [
    "python /pysource/fibo.py"
   ]
  },
  {
   "cell_type": "code",
   "execution_count": null,
   "id": "f292f70e-4183-499b-a434-b86ebd27f811",
   "metadata": {},
   "outputs": [],
   "source": []
  }
 ],
 "metadata": {
  "kernelspec": {
   "display_name": "Python 3 (ipykernel)",
   "language": "python",
   "name": "python3"
  },
  "language_info": {
   "codemirror_mode": {
    "name": "ipython",
    "version": 3
   },
   "file_extension": ".py",
   "mimetype": "text/x-python",
   "name": "python",
   "nbconvert_exporter": "python",
   "pygments_lexer": "ipython3",
   "version": "3.11.3"
  }
 },
 "nbformat": 4,
 "nbformat_minor": 5
}
