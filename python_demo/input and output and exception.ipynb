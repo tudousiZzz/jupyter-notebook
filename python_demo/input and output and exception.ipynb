{
 "cells": [
  {
   "cell_type": "markdown",
   "id": "2adab115-8b09-49e8-b9bd-ef89987c9451",
   "metadata": {},
   "source": [
    "## chapter7 input and output"
   ]
  },
  {
   "cell_type": "code",
   "execution_count": 3,
   "id": "4ce1e83d-9a17-4ee8-9cc9-222c26152af7",
   "metadata": {
    "tags": []
   },
   "outputs": [
    {
     "data": {
      "text/plain": [
       "'year is 2023'"
      ]
     },
     "execution_count": 3,
     "metadata": {},
     "output_type": "execute_result"
    }
   ],
   "source": [
    "year = 2023\n",
    "f'year is {year}'"
   ]
  },
  {
   "cell_type": "markdown",
   "id": "60b86713-182e-44b0-a650-26939aa91e1f",
   "metadata": {},
   "source": [
    "在字符串格式化中，使用冒号 `:` 可以指定格式化选项，其中 `-` 表示左对齐，那么不加 `-` 就表示右对齐。例如，如果想要将一个整数 `x` 右对齐，并占用 5 个字符的宽度，可以使用以下代码：\n",
    "\n",
    "```\n",
    "x = 123\n",
    "s = '{:>5}'.format(x)\n",
    "print(s)  # 输出 '  123'\n",
    "```\n",
    "\n",
    "在这个例子中，`{:>5}` 表示将变量 `x` 右对齐，并占用 5 个字符的宽度。其中，`>` 表示右对齐，`5` 表示总宽度为 5 个字符。因为 `x` 的值为 123，只占用了 3 个字符的宽度，所以剩下的 2 个字符会用空格填充。\n",
    "\n",
    "除了使用 `>` 进行右对齐外，还可以使用其他的对齐方式，例如 `<` 表示左对齐，`^` 表示居中对齐。例如：\n",
    "\n",
    "```\n",
    "x = 123\n",
    "s1 = '{:<5}'.format(x)   # 左对齐\n",
    "s2 = '{:^5}'.format(x)   # 居中对齐\n",
    "print(s1)  # 输出 '123  '\n",
    "print(s2)  # 输出 ' 123 '\n",
    "```"
   ]
  },
  {
   "cell_type": "code",
   "execution_count": 11,
   "id": "362c7a6f-9bd6-42b3-b619-3997a8b31fd0",
   "metadata": {
    "tags": []
   },
   "outputs": [
    {
     "data": {
      "text/plain": [
       "'42572654  YES votes  49.67%'"
      ]
     },
     "execution_count": 11,
     "metadata": {},
     "output_type": "execute_result"
    }
   ],
   "source": [
    "yes_votes = 42_572_654\n",
    "no_votes = 43_132_495\n",
    "percentage = yes_votes / (yes_votes + no_votes)\n",
    "'{:^9} YES votes  {:2.2%}'.format(yes_votes, percentage)"
   ]
  },
  {
   "cell_type": "code",
   "execution_count": 17,
   "id": "c468861d-95f9-4444-9a46-d828b729b1a4",
   "metadata": {
    "tags": []
   },
   "outputs": [
    {
     "name": "stdout",
     "output_type": "stream",
     "text": [
      "this is votes: '42_572_654'\n"
     ]
    }
   ],
   "source": [
    "yes_votes = '42_572_654'\n",
    "print(f'this is votes: {yes_votes!r}')"
   ]
  },
  {
   "cell_type": "code",
   "execution_count": 18,
   "id": "1dd670b1-4adf-4f93-8d64-4947bf8436bf",
   "metadata": {
    "tags": []
   },
   "outputs": [
    {
     "name": "stdout",
     "output_type": "stream",
     "text": [
      "this is votes: 42_572_654\n"
     ]
    }
   ],
   "source": [
    "print(f'this is votes: {yes_votes}')"
   ]
  },
  {
   "cell_type": "code",
   "execution_count": 19,
   "id": "af360ac2-ad20-4b95-9e1b-c28cc01bd06f",
   "metadata": {
    "tags": []
   },
   "outputs": [
    {
     "name": "stdout",
     "output_type": "stream",
     "text": [
      "this is votes: yes_votes='42_572_654'\n"
     ]
    }
   ],
   "source": [
    "print(f'this is votes: {yes_votes=}')"
   ]
  },
  {
   "cell_type": "markdown",
   "id": "c08ba805-abff-4f87-9000-e71f668ffd20",
   "metadata": {},
   "source": [
    "\n",
    "同样可以使用位置参数和关键字参数格式化"
   ]
  },
  {
   "cell_type": "code",
   "execution_count": null,
   "id": "ebb821f9-d826-4fab-8ca7-fb6018b4bb42",
   "metadata": {
    "tags": []
   },
   "outputs": [],
   "source": [
    "print('{0} and {1}'.format('spam', 'eggs'))"
   ]
  },
  {
   "cell_type": "code",
   "execution_count": 21,
   "id": "f8edb9fb-f8ce-49e6-a732-836f0569a257",
   "metadata": {
    "tags": []
   },
   "outputs": [
    {
     "name": "stdout",
     "output_type": "stream",
     "text": [
      "spam and eggs\n"
     ]
    }
   ],
   "source": [
    "print('{spam} and {eggs}'.format(spam='spam', eggs='eggs'))"
   ]
  },
  {
   "cell_type": "code",
   "execution_count": 22,
   "id": "987dab6b-4871-4f05-a6cd-f249aa9fdb30",
   "metadata": {
    "tags": []
   },
   "outputs": [
    {
     "name": "stdout",
     "output_type": "stream",
     "text": [
      "The story of Bill, Manfred, and Georg.\n"
     ]
    }
   ],
   "source": [
    "print('The story of {0}, {1}, and {other}.'.format('Bill', 'Manfred',\n",
    "...                                                    other='Georg'))"
   ]
  },
  {
   "cell_type": "markdown",
   "id": "45b9dc41-365c-4dc0-915d-e9773f1fdff4",
   "metadata": {},
   "source": [
    "在字符串格式化中，大括号内部的数字表示要插入的参数的索引位置。例如，{0} 表示要插入第一个参数，{1} 表示要插入第二个参数，以此类推。\n",
    "\n",
    "在这个例子中，{0[Jack]:d} 表示要插入第一个参数（即字典 table），并取出其中键为 Jack 的值，并将其格式化为整数。因为字典是一个可迭代对象，所以在大括号内部使用方括号 [] 来指定要取出的键。\n",
    "\n",
    "需要注意的是，这里的数字 0 表示要插入的第一个参数，因为在 format() 方法中没有指定要插入的参数的名称或位置。如果要指定要插入的参数的名称或位置，可以使用以下两种方式：\n",
    "\n",
    "按位置传递参数：'{0}, {1}'.format('hello', 'world')\n",
    "按名称传递参数：'{name1}, {name2}'.format(name1='hello', name2='world')\n",
    "在这两种方式中，大括号内部的数字或名称表示要插入的参数的位置或名称。\n",
    "\n",
    "当在print语句中使用**table时，您不需要编写{0[Jack]:d}的原因是**table将字典table解包为关键字参数。这意味着字典的键成为关键字参数名称，而值成为关键字参数的值。\n",
    "\n",
    "换句话说，在print语句中编写Jack=4098，Sjoerd=4127，Dcab=8637678等同于使用**table。因此，您可以简单地编写print('Jack: {Jack:d}; Sjoerd: {Sjoerd:d}; Dcab: {Dcab:d}'.format(**table))以实现与原始代码相同的结果。"
   ]
  },
  {
   "cell_type": "code",
   "execution_count": 23,
   "id": "ba27b25c-c1da-4932-8973-424a29854bbd",
   "metadata": {
    "tags": []
   },
   "outputs": [
    {
     "name": "stdout",
     "output_type": "stream",
     "text": [
      "Jack: 4098; Sjoerd: 4127; Dcab: 8637678\n"
     ]
    }
   ],
   "source": [
    "table = {'Sjoerd': 4127, 'Jack': 4098, 'Dcab': 8637678}\n",
    "print('Jack: {0[Jack]:d}; Sjoerd: {0[Sjoerd]:d}; '\n",
    "       'Dcab: {0[Dcab]:d}'.format(table))"
   ]
  },
  {
   "cell_type": "code",
   "execution_count": 24,
   "id": "4a1fca15-8ecd-4aba-8be9-eeb2f08c7a70",
   "metadata": {
    "tags": []
   },
   "outputs": [
    {
     "name": "stdout",
     "output_type": "stream",
     "text": [
      "Jack: 4098; Sjoerd: 4127; Dcab: 8637678\n"
     ]
    }
   ],
   "source": [
    "print('Jack: {Jack:d}; Sjoerd: {Sjoerd:d}; Dcab: {Dcab:d}'.format(**table))"
   ]
  },
  {
   "cell_type": "markdown",
   "id": "22a59dce-019a-40ba-9289-66d8b73ae724",
   "metadata": {},
   "source": [
    "读取文件需要使用open(), 使用 for line in f来打印line记得在print当中添加end,因为print默认会换行 list(f)或者f.readlines会以列表形式读  \n",
    "\n",
    "写入文件之后如果想要读取文件内容需要使用f.seek()方法移动文件指针， 0代表开头，1代表文件当前位置，2代表末尾  \n",
    "\n",
    "读取图片等文件记得使用二进制格式读取  \n",
    "\n",
    "为了方便操作字典列表等使用json存储数据"
   ]
  },
  {
   "cell_type": "code",
   "execution_count": 45,
   "id": "d9c1c63c-9ce2-4157-96bb-3e884ea27ce3",
   "metadata": {
    "tags": []
   },
   "outputs": [
    {
     "name": "stdout",
     "output_type": "stream",
     "text": [
      "# Fibonacci numbers module\n",
      " \n",
      " def fib(n):    # write Fibonacci series up to n\n",
      "     a, b = 0, 1\n",
      "     while a < n:\n",
      "         print(a, end=' ')\n",
      "         a, b = b, a+b\n",
      "     print()\n",
      " \n",
      " def fib2(n):   # return Fibonacci series up to n\n",
      "     result = []\n",
      "     a, b = 0, 1\n",
      "     while a < n:\n",
      "         result.append(a)\n",
      "         a, b = b, a+b\n",
      "     return result\n",
      " \n",
      " if __name__ == \"__main__\":\n",
      "     import sys\n",
      "     fib(int(sys.argv[1])) "
     ]
    }
   ],
   "source": [
    "f = open('./pysource/fibo.py', encoding='utf-8') \n",
    "for line in list(f):\n",
    "    print(line, end=' ')\n",
    "f.close()"
   ]
  },
  {
   "cell_type": "code",
   "execution_count": 64,
   "id": "b02433a8-9a0a-4db4-ad81-ada54878485f",
   "metadata": {
    "tags": []
   },
   "outputs": [
    {
     "data": {
      "text/plain": [
       "20"
      ]
     },
     "execution_count": 64,
     "metadata": {},
     "output_type": "execute_result"
    }
   ],
   "source": [
    "fw = open('./pysource/workfile', 'rb+')\n",
    "fw.write(b'0123456789abcdef')\n",
    "value = ('tangnanxing', 25)\n",
    "s = str(value) + '\\n'\n",
    "fw.write(s.encode())"
   ]
  },
  {
   "cell_type": "code",
   "execution_count": 68,
   "id": "a1f82e25-8e3c-4183-879c-74531bb9f0c8",
   "metadata": {
    "tags": []
   },
   "outputs": [
    {
     "name": "stdout",
     "output_type": "stream",
     "text": [
      "\n"
     ]
    },
    {
     "data": {
      "text/plain": [
       "b''"
      ]
     },
     "execution_count": 68,
     "metadata": {},
     "output_type": "execute_result"
    }
   ],
   "source": [
    "fw.read()\n",
    "print()\n",
    "fw.seek(0)\n",
    "fw.read()"
   ]
  },
  {
   "cell_type": "code",
   "execution_count": 95,
   "id": "bd76fd31-1f66-4615-9ee3-6ec8919b9cb9",
   "metadata": {
    "tags": []
   },
   "outputs": [],
   "source": [
    "fw.truncate(0) #清空文件\n",
    "import json\n",
    "fw.write(json.dumps(value).encode())\n",
    "fw.seek(0)\n",
    "fw.close()"
   ]
  },
  {
   "cell_type": "markdown",
   "id": "b960fbbb-02b5-41e0-8a7b-8a97ab7d34a4",
   "metadata": {},
   "source": [
    "raise语句可以触发异常  \n",
    "可以通过exception as exc 然后使用exc.args获取异常传递的参数  \n",
    "异常要根据项目要求打印指定格式, 使用add_note()方法可以为异常添加详细信息\n",
    "在except里边如果不打算处理异常可以再调用raise 异常链可以使用from标记直接异常\n",
    "\n",
    "自定义异常的时候要继承exception\n",
    "一次raise并且handle多个异常使用exceptiongroup"
   ]
  },
  {
   "cell_type": "code",
   "execution_count": 106,
   "id": "7a3f19aa-7381-42f4-b733-9d7fa1391dfe",
   "metadata": {
    "tags": []
   },
   "outputs": [
    {
     "name": "stdin",
     "output_type": "stream",
     "text": [
      "Please enter a number:  sd\n"
     ]
    },
    {
     "name": "stdout",
     "output_type": "stream",
     "text": [
      "Oops!  That was no valid number.  Try again...\n"
     ]
    },
    {
     "name": "stdin",
     "output_type": "stream",
     "text": [
      "Please enter a number:  1\n"
     ]
    }
   ],
   "source": [
    "while True:\n",
    "    try:\n",
    "        x = int(input(\"Please enter a number: \"))\n",
    "        break\n",
    "    except ValueError:\n",
    "        print(\"Oops!  That was no valid number.  Try again...\")"
   ]
  },
  {
   "cell_type": "code",
   "execution_count": 107,
   "id": "f288ce38-d26b-477f-9074-3514e3f51efe",
   "metadata": {
    "tags": []
   },
   "outputs": [
    {
     "name": "stdout",
     "output_type": "stream",
     "text": [
      "('spam', 'eggs')\n"
     ]
    }
   ],
   "source": [
    "try:\n",
    "    raise Exception('spam', 'eggs')\n",
    "except Exception as exc:\n",
    "    print(exc.args)"
   ]
  },
  {
   "cell_type": "code",
   "execution_count": 109,
   "id": "d23f1ceb-d427-43c4-b16f-e7e288750991",
   "metadata": {
    "tags": []
   },
   "outputs": [
    {
     "name": "stdout",
     "output_type": "stream",
     "text": [
      "An exception flew by!\n"
     ]
    }
   ],
   "source": [
    "try:\n",
    "    raise NameError('HiThere')\n",
    "except NameError:\n",
    "    print('An exception flew by!')\n",
    "    raise"
   ]
  },
  {
   "cell_type": "code",
   "execution_count": 116,
   "id": "b69d26b1-0a92-464d-b195-03c59126f1ef",
   "metadata": {
    "tags": []
   },
   "outputs": [
    {
     "ename": "RuntimeError",
     "evalue": "unable to handle error",
     "output_type": "error",
     "traceback": [
      "\u001b[1;31m---------------------------------------------------------------------------\u001b[0m",
      "\u001b[1;31mFileNotFoundError\u001b[0m                         Traceback (most recent call last)",
      "Cell \u001b[1;32mIn[116], line 2\u001b[0m\n\u001b[0;32m      1\u001b[0m \u001b[38;5;28;01mtry\u001b[39;00m:\n\u001b[1;32m----> 2\u001b[0m     \u001b[38;5;28;43mopen\u001b[39;49m\u001b[43m(\u001b[49m\u001b[38;5;124;43m\"\u001b[39;49m\u001b[38;5;124;43mdatabase.sqlite\u001b[39;49m\u001b[38;5;124;43m\"\u001b[39;49m\u001b[43m)\u001b[49m\n\u001b[0;32m      3\u001b[0m \u001b[38;5;28;01mexcept\u001b[39;00m \u001b[38;5;167;01mOSError\u001b[39;00m \u001b[38;5;28;01mas\u001b[39;00m ose:\n",
      "File \u001b[1;32mD:\\python311\\Lib\\site-packages\\IPython\\core\\interactiveshell.py:284\u001b[0m, in \u001b[0;36m_modified_open\u001b[1;34m(file, *args, **kwargs)\u001b[0m\n\u001b[0;32m    278\u001b[0m     \u001b[38;5;28;01mraise\u001b[39;00m \u001b[38;5;167;01mValueError\u001b[39;00m(\n\u001b[0;32m    279\u001b[0m         \u001b[38;5;124mf\u001b[39m\u001b[38;5;124m\"\u001b[39m\u001b[38;5;124mIPython won\u001b[39m\u001b[38;5;124m'\u001b[39m\u001b[38;5;124mt let you open fd=\u001b[39m\u001b[38;5;132;01m{\u001b[39;00mfile\u001b[38;5;132;01m}\u001b[39;00m\u001b[38;5;124m by default \u001b[39m\u001b[38;5;124m\"\u001b[39m\n\u001b[0;32m    280\u001b[0m         \u001b[38;5;124m\"\u001b[39m\u001b[38;5;124mas it is likely to crash IPython. If you know what you are doing, \u001b[39m\u001b[38;5;124m\"\u001b[39m\n\u001b[0;32m    281\u001b[0m         \u001b[38;5;124m\"\u001b[39m\u001b[38;5;124myou can use builtins\u001b[39m\u001b[38;5;124m'\u001b[39m\u001b[38;5;124m open.\u001b[39m\u001b[38;5;124m\"\u001b[39m\n\u001b[0;32m    282\u001b[0m     )\n\u001b[1;32m--> 284\u001b[0m \u001b[38;5;28;01mreturn\u001b[39;00m \u001b[43mio_open\u001b[49m\u001b[43m(\u001b[49m\u001b[43mfile\u001b[49m\u001b[43m,\u001b[49m\u001b[43m \u001b[49m\u001b[38;5;241;43m*\u001b[39;49m\u001b[43margs\u001b[49m\u001b[43m,\u001b[49m\u001b[43m \u001b[49m\u001b[38;5;241;43m*\u001b[39;49m\u001b[38;5;241;43m*\u001b[39;49m\u001b[43mkwargs\u001b[49m\u001b[43m)\u001b[49m\n",
      "\u001b[1;31mFileNotFoundError\u001b[0m: [Errno 2] No such file or directory: 'database.sqlite'",
      "\nThe above exception was the direct cause of the following exception:\n",
      "\u001b[1;31mRuntimeError\u001b[0m                              Traceback (most recent call last)",
      "Cell \u001b[1;32mIn[116], line 4\u001b[0m\n\u001b[0;32m      2\u001b[0m     \u001b[38;5;28mopen\u001b[39m(\u001b[38;5;124m\"\u001b[39m\u001b[38;5;124mdatabase.sqlite\u001b[39m\u001b[38;5;124m\"\u001b[39m)\n\u001b[0;32m      3\u001b[0m \u001b[38;5;28;01mexcept\u001b[39;00m \u001b[38;5;167;01mOSError\u001b[39;00m \u001b[38;5;28;01mas\u001b[39;00m ose:\n\u001b[1;32m----> 4\u001b[0m     \u001b[38;5;28;01mraise\u001b[39;00m \u001b[38;5;167;01mRuntimeError\u001b[39;00m(\u001b[38;5;124m\"\u001b[39m\u001b[38;5;124munable to handle error\u001b[39m\u001b[38;5;124m\"\u001b[39m) \u001b[38;5;28;01mfrom\u001b[39;00m \u001b[38;5;21;01mose\u001b[39;00m \n",
      "\u001b[1;31mRuntimeError\u001b[0m: unable to handle error"
     ]
    }
   ],
   "source": [
    "try:\n",
    "    open(\"database.sqlite\")\n",
    "except OSError as ose:\n",
    "    raise RuntimeError(\"unable to handle error\") from ose "
   ]
  },
  {
   "cell_type": "code",
   "execution_count": 119,
   "id": "64648ed6-155e-401c-8a0c-2553c0b37186",
   "metadata": {
    "tags": []
   },
   "outputs": [
    {
     "ename": "ExceptionGroup",
     "evalue": "Test Failures (1 sub-exception)",
     "output_type": "error",
     "traceback": [
      "\u001b[1;31m---------------------------------------------------------------------------\u001b[0m",
      "\u001b[1;31mExceptionGroup\u001b[0m                            Traceback (most recent call last)",
      "Cell \u001b[1;32mIn[119], line 10\u001b[0m\n\u001b[0;32m      8\u001b[0m         excs\u001b[38;5;241m.\u001b[39mappend(e)\n\u001b[0;32m      9\u001b[0m \u001b[38;5;28;01mif\u001b[39;00m excs:\n\u001b[1;32m---> 10\u001b[0m     \u001b[38;5;28;01mraise\u001b[39;00m ExceptionGroup(\u001b[38;5;124m\"\u001b[39m\u001b[38;5;124mTest Failures\u001b[39m\u001b[38;5;124m\"\u001b[39m, excs)\n",
      "\u001b[1;31mExceptionGroup\u001b[0m: Test Failures (1 sub-exception)"
     ]
    }
   ],
   "source": [
    "excs = []\n",
    "tests = ['hello']\n",
    "for test in tests:\n",
    "    try:\n",
    "        test.run()\n",
    "    except Exception as e:\n",
    "        e.add_note(f'this is exception note')\n",
    "        excs.append(e)\n",
    "if excs:\n",
    "    raise ExceptionGroup(\"Test Failures\", excs)"
   ]
  },
  {
   "cell_type": "code",
   "execution_count": 121,
   "id": "af4dce6d-f1f8-4e77-9d30-4275706b5521",
   "metadata": {
    "tags": []
   },
   "outputs": [
    {
     "ename": "TypeError",
     "evalue": "bad type",
     "output_type": "error",
     "traceback": [
      "\u001b[1;31m---------------------------------------------------------------------------\u001b[0m",
      "\u001b[1;31mTypeError\u001b[0m                                 Traceback (most recent call last)",
      "Cell \u001b[1;32mIn[121], line 2\u001b[0m\n\u001b[0;32m      1\u001b[0m \u001b[38;5;28;01mtry\u001b[39;00m:\n\u001b[1;32m----> 2\u001b[0m     \u001b[38;5;28;01mraise\u001b[39;00m \u001b[38;5;167;01mTypeError\u001b[39;00m(\u001b[38;5;124m'\u001b[39m\u001b[38;5;124mbad type\u001b[39m\u001b[38;5;124m'\u001b[39m)\n\u001b[0;32m      3\u001b[0m \u001b[38;5;28;01mexcept\u001b[39;00m \u001b[38;5;167;01mException\u001b[39;00m \u001b[38;5;28;01mas\u001b[39;00m e:\n\u001b[0;32m      4\u001b[0m     e\u001b[38;5;241m.\u001b[39madd_note(\u001b[38;5;124m'\u001b[39m\u001b[38;5;124mAdd some information\u001b[39m\u001b[38;5;124m'\u001b[39m)\n",
      "\u001b[1;31mTypeError\u001b[0m: bad type"
     ]
    }
   ],
   "source": [
    "try:\n",
    "    raise TypeError('bad type')\n",
    "except Exception as e:\n",
    "    e.add_note('Add some information')\n",
    "    e.add_note('Add some more information')\n",
    "    raise"
   ]
  },
  {
   "cell_type": "code",
   "execution_count": null,
   "id": "e4ded90c-63d2-4faa-92a0-16950adf5585",
   "metadata": {},
   "outputs": [],
   "source": []
  }
 ],
 "metadata": {
  "kernelspec": {
   "display_name": "Python 3 (ipykernel)",
   "language": "python",
   "name": "python3"
  },
  "language_info": {
   "codemirror_mode": {
    "name": "ipython",
    "version": 3
   },
   "file_extension": ".py",
   "mimetype": "text/x-python",
   "name": "python",
   "nbconvert_exporter": "python",
   "pygments_lexer": "ipython3",
   "version": "3.11.3"
  }
 },
 "nbformat": 4,
 "nbformat_minor": 5
}
