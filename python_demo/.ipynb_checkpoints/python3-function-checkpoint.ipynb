{
 "cells": [
  {
   "cell_type": "markdown",
   "id": "e09f1d55-8495-40e5-b77e-78c6bec3dd95",
   "metadata": {
    "tags": []
   },
   "source": [
    "# python exercise"
   ]
  },
  {
   "cell_type": "code",
   "execution_count": 1,
   "id": "440f7666-f2d3-4f56-8387-f6c086adede1",
   "metadata": {
    "tags": []
   },
   "outputs": [
    {
     "name": "stdout",
     "output_type": "stream",
     "text": [
      "Hello python!\n"
     ]
    }
   ],
   "source": [
    "print(\"Hello python!\")"
   ]
  },
  {
   "cell_type": "code",
   "execution_count": 2,
   "id": "18f1624b-17d0-409e-9b21-a658e42081b1",
   "metadata": {
    "tags": []
   },
   "outputs": [
    {
     "name": "stdout",
     "output_type": "stream",
     "text": [
      "1.5\n"
     ]
    }
   ],
   "source": [
    "print(abs(-1.5))"
   ]
  },
  {
   "cell_type": "code",
   "execution_count": 3,
   "id": "0e777723-5c74-4327-8270-cc06c5d83d7d",
   "metadata": {},
   "outputs": [
    {
     "data": {
      "text/plain": [
       "3.4"
      ]
     },
     "execution_count": 3,
     "metadata": {},
     "output_type": "execute_result"
    }
   ],
   "source": [
    "17 / 5"
   ]
  },
  {
   "cell_type": "code",
   "execution_count": 4,
   "id": "b9f507a7-fcd2-4789-88f3-f1896e8298b5",
   "metadata": {
    "tags": []
   },
   "outputs": [
    {
     "data": {
      "text/plain": [
       "5.666666666666667"
      ]
     },
     "execution_count": 4,
     "metadata": {},
     "output_type": "execute_result"
    }
   ],
   "source": [
    "17 / 3"
   ]
  },
  {
   "cell_type": "code",
   "execution_count": 5,
   "id": "cdd15c4f-2026-49a1-bd47-8787bd8a4505",
   "metadata": {
    "tags": []
   },
   "outputs": [
    {
     "data": {
      "text/plain": [
       "5"
      ]
     },
     "execution_count": 5,
     "metadata": {},
     "output_type": "execute_result"
    }
   ],
   "source": [
    "17 // 3"
   ]
  },
  {
   "cell_type": "code",
   "execution_count": 6,
   "id": "14c6113c-48f4-4d4b-9360-d001161de912",
   "metadata": {
    "tags": []
   },
   "outputs": [
    {
     "data": {
      "text/plain": [
       "25"
      ]
     },
     "execution_count": 6,
     "metadata": {},
     "output_type": "execute_result"
    }
   ],
   "source": [
    "5 ** 2"
   ]
  },
  {
   "cell_type": "code",
   "execution_count": 7,
   "id": "b293dd8f-162e-4451-bffc-466f040dc198",
   "metadata": {
    "tags": []
   },
   "outputs": [
    {
     "data": {
      "text/plain": [
       "25"
      ]
     },
     "execution_count": 7,
     "metadata": {},
     "output_type": "execute_result"
    }
   ],
   "source": [
    "_"
   ]
  },
  {
   "cell_type": "code",
   "execution_count": 8,
   "id": "b9dd12ed-9e9f-4724-bca8-bce1a5016e03",
   "metadata": {
    "tags": []
   },
   "outputs": [
    {
     "data": {
      "text/plain": [
       "'hello'"
      ]
     },
     "execution_count": 8,
     "metadata": {},
     "output_type": "execute_result"
    }
   ],
   "source": [
    "\"hello\""
   ]
  },
  {
   "cell_type": "code",
   "execution_count": 9,
   "id": "117afed7-4267-4950-920c-b9554250c5e8",
   "metadata": {
    "tags": []
   },
   "outputs": [
    {
     "name": "stdout",
     "output_type": "stream",
     "text": [
      "\"hello\"\n"
     ]
    }
   ],
   "source": [
    "print('\"hello\"')"
   ]
  },
  {
   "cell_type": "code",
   "execution_count": 10,
   "id": "646296d3-efab-4754-83c6-39636e5f0483",
   "metadata": {
    "tags": []
   },
   "outputs": [
    {
     "name": "stdout",
     "output_type": "stream",
     "text": [
      "C:\\some\n",
      "ame\n"
     ]
    }
   ],
   "source": [
    "print('C:\\some\\name')"
   ]
  },
  {
   "cell_type": "code",
   "execution_count": 11,
   "id": "5dd36bb5-2567-4db8-aa8f-1866bf6380bb",
   "metadata": {
    "tags": []
   },
   "outputs": [
    {
     "name": "stdout",
     "output_type": "stream",
     "text": [
      "C:\\some\\name\n"
     ]
    }
   ],
   "source": [
    "print('C:\\some\\\\name')"
   ]
  },
  {
   "cell_type": "code",
   "execution_count": 12,
   "id": "44f5fdfc-46ff-46b5-b0a5-7e592830729a",
   "metadata": {
    "tags": []
   },
   "outputs": [
    {
     "name": "stdout",
     "output_type": "stream",
     "text": [
      "C:\\some\\name\n"
     ]
    }
   ],
   "source": [
    "print(r'C:\\some\\name')"
   ]
  },
  {
   "cell_type": "code",
   "execution_count": 13,
   "id": "52613ee7-9262-47f1-a0a9-69ae3294bf26",
   "metadata": {
    "tags": []
   },
   "outputs": [
    {
     "name": "stdout",
     "output_type": "stream",
     "text": [
      "hello\n",
      "python!\n",
      "i am tangnanxing\n"
     ]
    }
   ],
   "source": [
    "print(\"\"\"hello\n",
    "python!\n",
    "i am tangnanxing\"\"\")"
   ]
  },
  {
   "cell_type": "code",
   "execution_count": 14,
   "id": "b61bdf78-3d37-415e-b0aa-fab157eafab1",
   "metadata": {
    "tags": []
   },
   "outputs": [
    {
     "data": {
      "text/plain": [
       "'ununun'"
      ]
     },
     "execution_count": 14,
     "metadata": {},
     "output_type": "execute_result"
    }
   ],
   "source": [
    "3 * 'un'"
   ]
  },
  {
   "cell_type": "code",
   "execution_count": 15,
   "id": "55afa9a7-a8c8-4a00-9a56-f22390ca3cab",
   "metadata": {
    "tags": []
   },
   "outputs": [
    {
     "data": {
      "text/plain": [
       "'python'"
      ]
     },
     "execution_count": 15,
     "metadata": {},
     "output_type": "execute_result"
    }
   ],
   "source": [
    "'py' 'thon'"
   ]
  },
  {
   "cell_type": "code",
   "execution_count": 16,
   "id": "fbe230b2-a802-4282-a72e-97c757ab5556",
   "metadata": {
    "tags": []
   },
   "outputs": [],
   "source": [
    "word = 'python'"
   ]
  },
  {
   "cell_type": "code",
   "execution_count": 17,
   "id": "945b4b66-431e-44c0-9977-7e4358efe1f6",
   "metadata": {
    "tags": []
   },
   "outputs": [
    {
     "data": {
      "text/plain": [
       "'p'"
      ]
     },
     "execution_count": 17,
     "metadata": {},
     "output_type": "execute_result"
    }
   ],
   "source": [
    "word[0]"
   ]
  },
  {
   "cell_type": "code",
   "execution_count": 18,
   "id": "20acc2b8-2e02-4efc-b193-ed0baeb1e01c",
   "metadata": {
    "tags": []
   },
   "outputs": [
    {
     "data": {
      "text/plain": [
       "'n'"
      ]
     },
     "execution_count": 18,
     "metadata": {},
     "output_type": "execute_result"
    }
   ],
   "source": [
    "word[-1]"
   ]
  },
  {
   "cell_type": "code",
   "execution_count": 19,
   "id": "2be88b29-19e7-452f-91cd-427b0ab8150c",
   "metadata": {
    "tags": []
   },
   "outputs": [
    {
     "data": {
      "text/plain": [
       "'pytho'"
      ]
     },
     "execution_count": 19,
     "metadata": {},
     "output_type": "execute_result"
    }
   ],
   "source": [
    "word[0:-1]"
   ]
  },
  {
   "cell_type": "code",
   "execution_count": 20,
   "id": "df2b2e85-f94f-4f91-8484-9d491e24b331",
   "metadata": {
    "tags": []
   },
   "outputs": [
    {
     "data": {
      "text/plain": [
       "'python'"
      ]
     },
     "execution_count": 20,
     "metadata": {},
     "output_type": "execute_result"
    }
   ],
   "source": [
    "word[0:]"
   ]
  },
  {
   "cell_type": "code",
   "execution_count": 21,
   "id": "a0328989-74f6-4677-90c4-d08868a83f18",
   "metadata": {
    "tags": []
   },
   "outputs": [
    {
     "data": {
      "text/plain": [
       "'pytho'"
      ]
     },
     "execution_count": 21,
     "metadata": {},
     "output_type": "execute_result"
    }
   ],
   "source": [
    "word[:-1]"
   ]
  },
  {
   "cell_type": "code",
   "execution_count": 22,
   "id": "2363f5bd-fc2a-40b5-952e-4c8481380a9a",
   "metadata": {
    "tags": []
   },
   "outputs": [
    {
     "data": {
      "text/plain": [
       "'python'"
      ]
     },
     "execution_count": 22,
     "metadata": {},
     "output_type": "execute_result"
    }
   ],
   "source": [
    "str.format(word)"
   ]
  },
  {
   "cell_type": "code",
   "execution_count": 23,
   "id": "2eb00a01-7c07-4010-bb3e-721d6140e81b",
   "metadata": {
    "tags": []
   },
   "outputs": [
    {
     "data": {
      "text/plain": [
       "6"
      ]
     },
     "execution_count": 23,
     "metadata": {},
     "output_type": "execute_result"
    }
   ],
   "source": [
    "len(word)"
   ]
  },
  {
   "cell_type": "code",
   "execution_count": 24,
   "id": "5364f219-9694-426c-9687-bdbdf6e8545c",
   "metadata": {
    "tags": []
   },
   "outputs": [],
   "source": [
    "squares = [1, 4, 9, 16, 25]"
   ]
  },
  {
   "cell_type": "code",
   "execution_count": 25,
   "id": "f93ed137-760f-4bc6-9773-fbe7f76d0827",
   "metadata": {
    "tags": []
   },
   "outputs": [
    {
     "data": {
      "text/plain": [
       "[1, 4, 9, 16, 25]"
      ]
     },
     "execution_count": 25,
     "metadata": {},
     "output_type": "execute_result"
    }
   ],
   "source": [
    "squares"
   ]
  },
  {
   "cell_type": "code",
   "execution_count": 26,
   "id": "ceb8d1db-95b4-4d86-96c9-4d0d80992685",
   "metadata": {
    "tags": []
   },
   "outputs": [
    {
     "data": {
      "text/plain": [
       "[1, 4, 9, 16, 25, 36]"
      ]
     },
     "execution_count": 26,
     "metadata": {},
     "output_type": "execute_result"
    }
   ],
   "source": [
    "squares + [36]"
   ]
  },
  {
   "cell_type": "code",
   "execution_count": 27,
   "id": "b90cf6d2-ca4f-4e9e-9394-4a3c92f1afaf",
   "metadata": {
    "tags": []
   },
   "outputs": [],
   "source": [
    "squares.append(49)"
   ]
  },
  {
   "cell_type": "code",
   "execution_count": 28,
   "id": "168ce674-3b2a-4e99-ad14-f080a093c7f1",
   "metadata": {
    "tags": []
   },
   "outputs": [
    {
     "data": {
      "text/plain": [
       "[1, 4, 9, 16, 25, 49]"
      ]
     },
     "execution_count": 28,
     "metadata": {},
     "output_type": "execute_result"
    }
   ],
   "source": [
    "squares"
   ]
  },
  {
   "cell_type": "markdown",
   "id": "ca787307-a38e-4cd1-ba7e-4403c774ea22",
   "metadata": {},
   "source": [
    "切片可以替换mutable类型的内容，可以用来置空更新等操作  \n"
   ]
  },
  {
   "cell_type": "code",
   "execution_count": 32,
   "id": "afae57a6-9311-4515-928c-aec727a9c92c",
   "metadata": {
    "tags": []
   },
   "outputs": [
    {
     "name": "stdout",
     "output_type": "stream",
     "text": [
      "0\n",
      "1\n",
      "1\n",
      "2\n",
      "3\n",
      "5\n",
      "8\n"
     ]
    }
   ],
   "source": [
    "a, b = 0, 1\n",
    "while a < 10:\n",
    "    print(a)\n",
    "    a, b = b, a + b"
   ]
  },
  {
   "cell_type": "code",
   "execution_count": 33,
   "id": "2984d0c6-5f43-4cd7-bb30-7def45f3d53a",
   "metadata": {
    "tags": []
   },
   "outputs": [
    {
     "name": "stdout",
     "output_type": "stream",
     "text": [
      "0,1,1,2,3,5,8,"
     ]
    }
   ],
   "source": [
    "a, b = 0, 1\n",
    "while a < 10:\n",
    "    print(a, end = ',')\n",
    "    a, b = b, a + b"
   ]
  },
  {
   "cell_type": "code",
   "execution_count": 34,
   "id": "df85f2d2-cca3-4633-b716-65cf0b14523c",
   "metadata": {
    "tags": []
   },
   "outputs": [
    {
     "name": "stdout",
     "output_type": "stream",
     "text": [
      "0 1 1 2 3 5 8 "
     ]
    }
   ],
   "source": [
    "a, b = 0, 1\n",
    "while a < 10:\n",
    "    print(a, end = ' ')\n",
    "    a, b = b, a + b"
   ]
  },
  {
   "cell_type": "code",
   "execution_count": 35,
   "id": "0a64f123-5868-4cef-a27c-cd0fdb9e88a4",
   "metadata": {
    "tags": []
   },
   "outputs": [
    {
     "name": "stdin",
     "output_type": "stream",
     "text": [
      "Please input an integer: 25\n"
     ]
    }
   ],
   "source": [
    "x = int(input(\"Please input an integer:\"))"
   ]
  },
  {
   "cell_type": "code",
   "execution_count": 36,
   "id": "bdbbee1a-6a4d-4e03-b4d9-47f72d6f33c0",
   "metadata": {
    "tags": []
   },
   "outputs": [
    {
     "data": {
      "text/plain": [
       "25"
      ]
     },
     "execution_count": 36,
     "metadata": {},
     "output_type": "execute_result"
    }
   ],
   "source": [
    "x"
   ]
  },
  {
   "cell_type": "code",
   "execution_count": 37,
   "id": "f286b2c8-fe6e-4092-9b7f-4d24c16c74f1",
   "metadata": {
    "tags": []
   },
   "outputs": [],
   "source": [
    "users = {'Hans': 'active', 'Éléonore': 'inactive', '景太郎': 'active'}"
   ]
  },
  {
   "cell_type": "code",
   "execution_count": 38,
   "id": "624c219e-9e30-467e-aacd-0708a40250c4",
   "metadata": {
    "tags": []
   },
   "outputs": [
    {
     "name": "stdout",
     "output_type": "stream",
     "text": [
      "Hans active\n",
      "Éléonore inactive\n",
      "景太郎 active\n"
     ]
    }
   ],
   "source": [
    "for user, status in users.copy().items():\n",
    "        print(user + ' ' + status)"
   ]
  },
  {
   "cell_type": "code",
   "execution_count": 39,
   "id": "3e119b1a-bdae-4d9d-96f4-eb0b35b95354",
   "metadata": {
    "tags": []
   },
   "outputs": [],
   "source": [
    "for user, status in users.copy().items():\n",
    "        if status == 'active':\n",
    "            del users[user]"
   ]
  },
  {
   "cell_type": "code",
   "execution_count": 40,
   "id": "53537ea8-60f3-46b3-bb2c-7a9676604a95",
   "metadata": {
    "tags": []
   },
   "outputs": [
    {
     "data": {
      "text/plain": [
       "{'Éléonore': 'inactive'}"
      ]
     },
     "execution_count": 40,
     "metadata": {},
     "output_type": "execute_result"
    }
   ],
   "source": [
    "users"
   ]
  },
  {
   "cell_type": "code",
   "execution_count": 41,
   "id": "d4b353b8-067c-46b4-a959-055c5182a91b",
   "metadata": {
    "tags": []
   },
   "outputs": [
    {
     "name": "stdout",
     "output_type": "stream",
     "text": [
      "0 1 2 3 4 "
     ]
    }
   ],
   "source": [
    "for i in range(5):\n",
    "    print(i, end =  ' ')"
   ]
  },
  {
   "cell_type": "code",
   "execution_count": 42,
   "id": "495d7f8e-d813-4c74-a584-d63f1b86aedd",
   "metadata": {
    "tags": []
   },
   "outputs": [
    {
     "data": {
      "text/plain": [
       "[5, 6, 7, 8, 9]"
      ]
     },
     "execution_count": 42,
     "metadata": {},
     "output_type": "execute_result"
    }
   ],
   "source": [
    "list(range(5, 10))"
   ]
  },
  {
   "cell_type": "code",
   "execution_count": 43,
   "id": "1b21cf8c-feac-4c92-aae2-171c14cb29f2",
   "metadata": {
    "tags": []
   },
   "outputs": [
    {
     "data": {
      "text/plain": [
       "[5, 8]"
      ]
     },
     "execution_count": 43,
     "metadata": {},
     "output_type": "execute_result"
    }
   ],
   "source": [
    "list(range(5, 10, 3))"
   ]
  },
  {
   "cell_type": "markdown",
   "id": "4ec4eeea-aff0-4c16-b776-d11bb4acfbe6",
   "metadata": {},
   "source": [
    "使用enumerate可以不用遍历，range返回的是迭代器因此所有可以接受迭代器作为输入的都可以使用range  \n"
   ]
  },
  {
   "cell_type": "code",
   "execution_count": 44,
   "id": "ba7dc510-7025-4fd9-8f3b-7a5b0431b123",
   "metadata": {
    "tags": []
   },
   "outputs": [
    {
     "data": {
      "text/plain": [
       "[(0, 'Éléonore')]"
      ]
     },
     "execution_count": 44,
     "metadata": {},
     "output_type": "execute_result"
    }
   ],
   "source": [
    "list(enumerate(users))"
   ]
  },
  {
   "cell_type": "code",
   "execution_count": 45,
   "id": "e23cc3db-1fef-432e-93d8-7fd3a40d7870",
   "metadata": {
    "tags": []
   },
   "outputs": [
    {
     "data": {
      "text/plain": [
       "range(0, 10)"
      ]
     },
     "execution_count": 45,
     "metadata": {},
     "output_type": "execute_result"
    }
   ],
   "source": [
    "range(10)"
   ]
  },
  {
   "cell_type": "code",
   "execution_count": 46,
   "id": "b0474307-096c-4284-b3dc-bff3ceb3a67d",
   "metadata": {
    "tags": []
   },
   "outputs": [
    {
     "data": {
      "text/plain": [
       "45"
      ]
     },
     "execution_count": 46,
     "metadata": {},
     "output_type": "execute_result"
    }
   ],
   "source": [
    "sum(range(10))"
   ]
  },
  {
   "cell_type": "markdown",
   "id": "63022a3d-ef99-4ad9-9733-63b2c970375a",
   "metadata": {},
   "source": [
    "match 需要查看 [pep-0636](https://peps.python.org/pep-0636/)"
   ]
  },
  {
   "cell_type": "code",
   "execution_count": 61,
   "id": "b21e2951-de8a-45c9-b008-273dfd360899",
   "metadata": {
    "tags": []
   },
   "outputs": [
    {
     "name": "stdout",
     "output_type": "stream",
     "text": [
      "inactive\n"
     ]
    }
   ],
   "source": [
    "match users:\n",
    "    case {'1': value}:\n",
    "        print(value)\n",
    "    case {'Éléonore': value}:\n",
    "        print(value)\n",
    "    case _:\n",
    "        print(\"false\")"
   ]
  },
  {
   "cell_type": "markdown",
   "id": "d2b4dc51-2d15-4854-af99-1657021b53d4",
   "metadata": {},
   "source": [
    "函数  \n"
   ]
  },
  {
   "cell_type": "code",
   "execution_count": 64,
   "id": "000daf91-5d7d-44b8-bd0d-a900822ee02f",
   "metadata": {},
   "outputs": [],
   "source": [
    "def fibo(n):\n",
    "    a, b = 0, 1\n",
    "    while b < n:\n",
    "        a, b = b, a + b\n",
    "    print(a)"
   ]
  },
  {
   "cell_type": "code",
   "execution_count": 65,
   "id": "d952b52f-96a1-4a0a-8e65-c8c6fbb453fc",
   "metadata": {
    "tags": []
   },
   "outputs": [
    {
     "name": "stdout",
     "output_type": "stream",
     "text": [
      "89\n"
     ]
    }
   ],
   "source": [
    "fibo(100)"
   ]
  },
  {
   "cell_type": "markdown",
   "id": "e92603db-d766-44b6-a32a-b7a783278319",
   "metadata": {},
   "source": [
    "函数使用的几种方式：\n",
    "    1. 只是用必选参数\n",
    "    2. 必选参数和可选参数混合使用\n",
    "    3. **调用的时候可以使用关键字参数，但是关键字参数必须在位置参数之后**。\n",
    "    4. 使用 * name 形参接收一个元组，使用 ** name形参接受一个字典 * name 必须在 ** name 前面\n",
    "    5. 使用特殊参数 / 和 *  ,前者仅限位置参数常用在 ** name前接受一个字典而不产生歧义 def f(pos1, pos2, /, pos_or_kwd, * , kwd1, kwd2):\n",
    "    6. 调用时任意实参列表，在 * args后的任何形参只能是关键字参数，不能是位置参数，实参列表可以用来解包，使用* args即可, 同样的，使用** args传递字典也可以对应关键字参数.貌似方便使用json格式来传递参数。\n",
    "    7. lambda函数调用"
   ]
  },
  {
   "cell_type": "code",
   "execution_count": 1,
   "id": "e8332c8f-408e-48da-baaf-c07ed41b5638",
   "metadata": {},
   "outputs": [],
   "source": [
    "def ask_ok(prompt, retries=4, reminder='Please try again!'):\n",
    "    while True:\n",
    "        ok = input(prompt)\n",
    "        if ok in ('y', 'ye', 'yes'):\n",
    "            return True\n",
    "        if ok in ('n', 'no', 'nop', 'nope'):\n",
    "            return False\n",
    "        retries = retries - 1\n",
    "        if retries < 0:\n",
    "            raise ValueError('invalid user response')\n",
    "        print(reminder)"
   ]
  },
  {
   "cell_type": "code",
   "execution_count": 3,
   "id": "1db057f5-04bb-4455-9fbd-e0eca0216431",
   "metadata": {
    "tags": []
   },
   "outputs": [
    {
     "name": "stdin",
     "output_type": "stream",
     "text": [
      "quit? ye\n"
     ]
    },
    {
     "data": {
      "text/plain": [
       "True"
      ]
     },
     "execution_count": 3,
     "metadata": {},
     "output_type": "execute_result"
    }
   ],
   "source": [
    "ask_ok(\"quit?\")"
   ]
  },
  {
   "cell_type": "code",
   "execution_count": 4,
   "id": "608e0218-a213-43b8-84a5-280a3abaaeec",
   "metadata": {
    "tags": []
   },
   "outputs": [],
   "source": [
    "def f(a, L = []):\n",
    "    L.append(a)\n",
    "    return L"
   ]
  },
  {
   "cell_type": "code",
   "execution_count": 5,
   "id": "96692e4b-638e-44a8-a5f1-da86f44d17c0",
   "metadata": {
    "tags": []
   },
   "outputs": [
    {
     "name": "stdout",
     "output_type": "stream",
     "text": [
      "[1]\n"
     ]
    }
   ],
   "source": [
    "print(f(1))"
   ]
  },
  {
   "cell_type": "code",
   "execution_count": 6,
   "id": "ccc46222-79a4-436a-a91e-dea1112b4b09",
   "metadata": {
    "tags": []
   },
   "outputs": [
    {
     "name": "stdout",
     "output_type": "stream",
     "text": [
      "[1, 2]\n"
     ]
    }
   ],
   "source": [
    "print(f(2))"
   ]
  },
  {
   "cell_type": "code",
   "execution_count": 7,
   "id": "350dbc3c-f37e-4b79-9f82-798f32b5881e",
   "metadata": {
    "tags": []
   },
   "outputs": [],
   "source": [
    "def f(a, L = None):\n",
    "    if L is None:\n",
    "        L = []\n",
    "    L.append(a)\n",
    "    return L"
   ]
  },
  {
   "cell_type": "code",
   "execution_count": 8,
   "id": "b245abfd-7b66-4154-9964-b76ec933175d",
   "metadata": {
    "tags": []
   },
   "outputs": [
    {
     "name": "stdout",
     "output_type": "stream",
     "text": [
      "[1]\n"
     ]
    }
   ],
   "source": [
    "print(f(1))"
   ]
  },
  {
   "cell_type": "code",
   "execution_count": 9,
   "id": "f4ff1de3-2714-455b-8ff9-473611575c27",
   "metadata": {
    "tags": []
   },
   "outputs": [
    {
     "name": "stdout",
     "output_type": "stream",
     "text": [
      "[2]\n"
     ]
    }
   ],
   "source": [
    "print(f(2))"
   ]
  },
  {
   "cell_type": "code",
   "execution_count": 10,
   "id": "dbf0bd14-2e82-4770-83b0-74c22a3ede81",
   "metadata": {
    "tags": []
   },
   "outputs": [
    {
     "name": "stdout",
     "output_type": "stream",
     "text": [
      "[2, 3]\n"
     ]
    }
   ],
   "source": [
    "print(f(3, [2]))"
   ]
  },
  {
   "cell_type": "code",
   "execution_count": 11,
   "id": "e2ec5793-1d72-4eb0-8e6f-750dd5df0a1f",
   "metadata": {
    "tags": []
   },
   "outputs": [],
   "source": [
    "def parrot(voltage, state='a stiff', action='voom', type='Norwegian Blue'):\n",
    "    print(\"-- This parrot wouldn't\", action, end=' ')\n",
    "    print(\"if you put\", voltage, \"volts through it.\")\n",
    "    print(\"-- Lovely plumage, the\", type)\n",
    "    print(\"-- It's\", state, \"!\")"
   ]
  },
  {
   "cell_type": "code",
   "execution_count": 12,
   "id": "e7d36cda-6805-40f0-9241-a6d5cc20d1cb",
   "metadata": {
    "tags": []
   },
   "outputs": [
    {
     "ename": "SyntaxError",
     "evalue": "positional argument follows keyword argument (1010629240.py, line 1)",
     "output_type": "error",
     "traceback": [
      "\u001b[1;36m  Cell \u001b[1;32mIn[12], line 1\u001b[1;36m\u001b[0m\n\u001b[1;33m    parrot(voltage = 5.0, 'dead')\u001b[0m\n\u001b[1;37m                                ^\u001b[0m\n\u001b[1;31mSyntaxError\u001b[0m\u001b[1;31m:\u001b[0m positional argument follows keyword argument\n"
     ]
    }
   ],
   "source": [
    "parrot(voltage = 5.0, 'dead')"
   ]
  },
  {
   "cell_type": "code",
   "execution_count": 13,
   "id": "f1cf489a-8ddb-4d85-b172-e80894d792dc",
   "metadata": {
    "tags": []
   },
   "outputs": [
    {
     "ename": "TypeError",
     "evalue": "parrot() got multiple values for argument 'voltage'",
     "output_type": "error",
     "traceback": [
      "\u001b[1;31m---------------------------------------------------------------------------\u001b[0m",
      "\u001b[1;31mTypeError\u001b[0m                                 Traceback (most recent call last)",
      "Cell \u001b[1;32mIn[13], line 1\u001b[0m\n\u001b[1;32m----> 1\u001b[0m \u001b[43mparrot\u001b[49m\u001b[43m(\u001b[49m\u001b[38;5;124;43m'\u001b[39;49m\u001b[38;5;124;43mdead\u001b[39;49m\u001b[38;5;124;43m'\u001b[39;49m\u001b[43m,\u001b[49m\u001b[43m \u001b[49m\u001b[43mvoltage\u001b[49m\u001b[43m \u001b[49m\u001b[38;5;241;43m=\u001b[39;49m\u001b[43m \u001b[49m\u001b[38;5;241;43m5.0\u001b[39;49m\u001b[43m)\u001b[49m\n",
      "\u001b[1;31mTypeError\u001b[0m: parrot() got multiple values for argument 'voltage'"
     ]
    }
   ],
   "source": [
    "parrot('dead', voltage = 5.0)"
   ]
  },
  {
   "cell_type": "code",
   "execution_count": 14,
   "id": "2c2e3adb-1a6f-4285-b7b5-9d70274ea253",
   "metadata": {
    "tags": []
   },
   "outputs": [
    {
     "ename": "TypeError",
     "evalue": "foo() got multiple values for argument 'name'",
     "output_type": "error",
     "traceback": [
      "\u001b[1;31m---------------------------------------------------------------------------\u001b[0m",
      "\u001b[1;31mTypeError\u001b[0m                                 Traceback (most recent call last)",
      "Cell \u001b[1;32mIn[14], line 3\u001b[0m\n\u001b[0;32m      1\u001b[0m \u001b[38;5;28;01mdef\u001b[39;00m \u001b[38;5;21mfoo\u001b[39m(name, \u001b[38;5;241m*\u001b[39m\u001b[38;5;241m*\u001b[39mkwds):\n\u001b[0;32m      2\u001b[0m     \u001b[38;5;28;01mreturn\u001b[39;00m \u001b[38;5;124m'\u001b[39m\u001b[38;5;124mname\u001b[39m\u001b[38;5;124m'\u001b[39m \u001b[38;5;129;01min\u001b[39;00m kwds\n\u001b[1;32m----> 3\u001b[0m \u001b[43mfoo\u001b[49m\u001b[43m(\u001b[49m\u001b[38;5;241;43m1\u001b[39;49m\u001b[43m,\u001b[49m\u001b[43m \u001b[49m\u001b[38;5;241;43m*\u001b[39;49m\u001b[38;5;241;43m*\u001b[39;49m\u001b[43m{\u001b[49m\u001b[38;5;124;43m'\u001b[39;49m\u001b[38;5;124;43mname\u001b[39;49m\u001b[38;5;124;43m'\u001b[39;49m\u001b[43m:\u001b[49m\u001b[43m \u001b[49m\u001b[38;5;241;43m2\u001b[39;49m\u001b[43m}\u001b[49m\u001b[43m)\u001b[49m\n",
      "\u001b[1;31mTypeError\u001b[0m: foo() got multiple values for argument 'name'"
     ]
    }
   ],
   "source": [
    "def foo(name, **kwds):\n",
    "    return 'name' in kwds\n",
    "foo(1, **{'name': 2})"
   ]
  },
  {
   "cell_type": "code",
   "execution_count": 15,
   "id": "01854c93-182b-456d-83e6-de5d3c1de2e1",
   "metadata": {
    "tags": []
   },
   "outputs": [
    {
     "data": {
      "text/plain": [
       "True"
      ]
     },
     "execution_count": 15,
     "metadata": {},
     "output_type": "execute_result"
    }
   ],
   "source": [
    "def foo(name, /, **kwds):\n",
    "    return 'name' in kwds\n",
    "foo(1, **{'name': 2})"
   ]
  },
  {
   "cell_type": "code",
   "execution_count": 17,
   "id": "7c4655b1-88e5-484b-8aee-1b14b168c62c",
   "metadata": {
    "tags": []
   },
   "outputs": [
    {
     "data": {
      "text/plain": [
       "[3, 4, 5]"
      ]
     },
     "execution_count": 17,
     "metadata": {},
     "output_type": "execute_result"
    }
   ],
   "source": [
    "args = [3, 6]\n",
    "list(range(*args))"
   ]
  },
  {
   "cell_type": "code",
   "execution_count": 18,
   "id": "3d1f94ef-b88a-4f52-81e3-3162d82ca288",
   "metadata": {
    "tags": []
   },
   "outputs": [],
   "source": [
    "def concat(*args, sep=\"/\"):\n",
    "    return sep.join(args)"
   ]
  },
  {
   "cell_type": "code",
   "execution_count": 19,
   "id": "78a33bd4-6fc7-4214-9fab-d5ca5f17fb65",
   "metadata": {
    "tags": []
   },
   "outputs": [],
   "source": [
    "def concat(*args, sep):\n",
    "    return sep.join(args)"
   ]
  },
  {
   "cell_type": "code",
   "execution_count": 20,
   "id": "ce40787b-911f-4f7d-acba-4a75f340882c",
   "metadata": {
    "tags": []
   },
   "outputs": [
    {
     "data": {
      "text/plain": [
       "'earth.mars.venus'"
      ]
     },
     "execution_count": 20,
     "metadata": {},
     "output_type": "execute_result"
    }
   ],
   "source": [
    "concat(\"earth\", \"mars\", \"venus\", sep=\".\")"
   ]
  },
  {
   "cell_type": "code",
   "execution_count": 21,
   "id": "1710202d-f780-418d-a38f-bf3fc9ec8825",
   "metadata": {
    "tags": []
   },
   "outputs": [],
   "source": [
    "pairs = [(1, 'one'), (3, 'three'), (2, 'two')]\n",
    "pairs.sort(key = lambda pair : pair[0])"
   ]
  },
  {
   "cell_type": "code",
   "execution_count": 22,
   "id": "7658178d-7d9f-4351-aad6-3d40333d07aa",
   "metadata": {
    "tags": []
   },
   "outputs": [
    {
     "data": {
      "text/plain": [
       "[(1, 'one'), (2, 'two'), (3, 'three')]"
      ]
     },
     "execution_count": 22,
     "metadata": {},
     "output_type": "execute_result"
    }
   ],
   "source": [
    "pairs"
   ]
  },
  {
   "cell_type": "code",
   "execution_count": 23,
   "id": "5be84507-cbf6-4d61-a0ef-cfb16e12b187",
   "metadata": {
    "tags": []
   },
   "outputs": [],
   "source": [
    "pairs.sort(key = lambda pair : pair[1])"
   ]
  },
  {
   "cell_type": "code",
   "execution_count": 24,
   "id": "e3cc1de9-2076-4811-aa4a-c109fb9073c1",
   "metadata": {
    "tags": []
   },
   "outputs": [
    {
     "data": {
      "text/plain": [
       "[(1, 'one'), (3, 'three'), (2, 'two')]"
      ]
     },
     "execution_count": 24,
     "metadata": {},
     "output_type": "execute_result"
    }
   ],
   "source": [
    "pairs"
   ]
  },
  {
   "cell_type": "code",
   "execution_count": 30,
   "id": "eff29e1e-3375-44af-b8b5-db42f0661799",
   "metadata": {
    "tags": []
   },
   "outputs": [
    {
     "name": "stdout",
     "output_type": "stream",
     "text": [
      "Test document.\n",
      "    \n",
      "    this is second line\n"
     ]
    }
   ],
   "source": [
    "def my_funtion():\n",
    "    \"\"\"Test document.\n",
    "    \n",
    "    this is second line\"\"\"\n",
    "    pass\n",
    "print(my_funtion.__doc__)"
   ]
  },
  {
   "cell_type": "code",
   "execution_count": null,
   "id": "3a1b5e84-0185-4458-9747-932490b9c000",
   "metadata": {},
   "outputs": [],
   "source": []
  }
 ],
 "metadata": {
  "kernelspec": {
   "display_name": "Python 3 (ipykernel)",
   "language": "python",
   "name": "python3"
  },
  "language_info": {
   "codemirror_mode": {
    "name": "ipython",
    "version": 3
   },
   "file_extension": ".py",
   "mimetype": "text/x-python",
   "name": "python",
   "nbconvert_exporter": "python",
   "pygments_lexer": "ipython3",
   "version": "3.11.3"
  }
 },
 "nbformat": 4,
 "nbformat_minor": 5
}
